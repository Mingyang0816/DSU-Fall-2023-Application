{
  "nbformat": 4,
  "nbformat_minor": 0,
  "metadata": {
    "colab": {
      "provenance": [],
      "authorship_tag": "ABX9TyOUDDgiY3PvZO8DByazxzAf",
      "include_colab_link": true
    },
    "kernelspec": {
      "name": "python3",
      "display_name": "Python 3"
    },
    "language_info": {
      "name": "python"
    }
  },
  "cells": [
    {
      "cell_type": "markdown",
      "metadata": {
        "id": "view-in-github",
        "colab_type": "text"
      },
      "source": [
        "<a href=\"https://colab.research.google.com/github/Mingyang0816/DSU-Fall-2023-Application/blob/main/F1_Data_Analysis.ipynb\" target=\"_parent\"><img src=\"https://colab.research.google.com/assets/colab-badge.svg\" alt=\"Open In Colab\"/></a>"
      ]
    },
    {
      "cell_type": "code",
      "source": [
        "# Authenticate Google Drive\n",
        "from google.colab import drive\n",
        "drive.mount('/content/drive')"
      ],
      "metadata": {
        "colab": {
          "base_uri": "https://localhost:8080/"
        },
        "id": "U8zbKKkvzWLB",
        "outputId": "38b0c785-1cbc-411a-dd0e-de4021fc8779"
      },
      "execution_count": 81,
      "outputs": [
        {
          "output_type": "stream",
          "name": "stdout",
          "text": [
            "Drive already mounted at /content/drive; to attempt to forcibly remount, call drive.mount(\"/content/drive\", force_remount=True).\n"
          ]
        }
      ]
    },
    {
      "cell_type": "code",
      "execution_count": 82,
      "metadata": {
        "id": "BX6QYd6UypJ1"
      },
      "outputs": [],
      "source": [
        "# Import Libraries\n",
        "import numpy as np\n",
        "import pandas as pd\n",
        "import matplotlib as mpl\n",
        "import matplotlib.pyplot as plt"
      ]
    },
    {
      "cell_type": "code",
      "source": [
        "# Import Dataset\n",
        "path = \"/content/drive/My Drive/DSU Fall 2023 Application/dsu_fall23_tech_app_dataset.csv\"\n",
        "f1_df = pd.read_csv(path)"
      ],
      "metadata": {
        "id": "MQxeY3wKy5s4"
      },
      "execution_count": 83,
      "outputs": []
    },
    {
      "cell_type": "code",
      "source": [
        "# Check Dataset\n",
        "f1_df.head()"
      ],
      "metadata": {
        "colab": {
          "base_uri": "https://localhost:8080/",
          "height": 206
        },
        "id": "llAQ1K8f0uZx",
        "outputId": "9b149424-8715-4dc4-b7be-465f3af4312b"
      },
      "execution_count": 84,
      "outputs": [
        {
          "output_type": "execute_result",
          "data": {
            "text/plain": [
              "              Driver         Country  Has_Won_A_Championship  Total_Races  \\\n",
              "0        Carlo Abate           Italy                   False          0.0   \n",
              "1   George Abecassis  United Kingdom                   False          2.0   \n",
              "2      Kenny Acheson  United Kingdom                   False          3.0   \n",
              "3  Andrea de Adamich           Italy                   False         30.0   \n",
              "4     Philippe Adams         Belgium                   False          2.0   \n",
              "\n",
              "   Race_Wins                       Seasons  Pole_Positions  \\\n",
              "0        0.0                    1962, 1963             0.0   \n",
              "1        0.0                    1951, 1952             0.0   \n",
              "2        0.0                    1983, 1985             0.0   \n",
              "3        0.0  1968, 1970, 1971, 1972, 1973             0.0   \n",
              "4        0.0                          1994             0.0   \n",
              "\n",
              "   Total_Championships_Won  Race_Podiums  Decade  \n",
              "0                      0.0           0.0    1960  \n",
              "1                      0.0           0.0    1950  \n",
              "2                      0.0           0.0    1980  \n",
              "3                      0.0           0.0    1970  \n",
              "4                      0.0           0.0    1990  "
            ],
            "text/html": [
              "\n",
              "  <div id=\"df-511e79f4-0e3e-439c-9067-98dd0e21b0ec\" class=\"colab-df-container\">\n",
              "    <div>\n",
              "<style scoped>\n",
              "    .dataframe tbody tr th:only-of-type {\n",
              "        vertical-align: middle;\n",
              "    }\n",
              "\n",
              "    .dataframe tbody tr th {\n",
              "        vertical-align: top;\n",
              "    }\n",
              "\n",
              "    .dataframe thead th {\n",
              "        text-align: right;\n",
              "    }\n",
              "</style>\n",
              "<table border=\"1\" class=\"dataframe\">\n",
              "  <thead>\n",
              "    <tr style=\"text-align: right;\">\n",
              "      <th></th>\n",
              "      <th>Driver</th>\n",
              "      <th>Country</th>\n",
              "      <th>Has_Won_A_Championship</th>\n",
              "      <th>Total_Races</th>\n",
              "      <th>Race_Wins</th>\n",
              "      <th>Seasons</th>\n",
              "      <th>Pole_Positions</th>\n",
              "      <th>Total_Championships_Won</th>\n",
              "      <th>Race_Podiums</th>\n",
              "      <th>Decade</th>\n",
              "    </tr>\n",
              "  </thead>\n",
              "  <tbody>\n",
              "    <tr>\n",
              "      <th>0</th>\n",
              "      <td>Carlo Abate</td>\n",
              "      <td>Italy</td>\n",
              "      <td>False</td>\n",
              "      <td>0.0</td>\n",
              "      <td>0.0</td>\n",
              "      <td>1962, 1963</td>\n",
              "      <td>0.0</td>\n",
              "      <td>0.0</td>\n",
              "      <td>0.0</td>\n",
              "      <td>1960</td>\n",
              "    </tr>\n",
              "    <tr>\n",
              "      <th>1</th>\n",
              "      <td>George Abecassis</td>\n",
              "      <td>United Kingdom</td>\n",
              "      <td>False</td>\n",
              "      <td>2.0</td>\n",
              "      <td>0.0</td>\n",
              "      <td>1951, 1952</td>\n",
              "      <td>0.0</td>\n",
              "      <td>0.0</td>\n",
              "      <td>0.0</td>\n",
              "      <td>1950</td>\n",
              "    </tr>\n",
              "    <tr>\n",
              "      <th>2</th>\n",
              "      <td>Kenny Acheson</td>\n",
              "      <td>United Kingdom</td>\n",
              "      <td>False</td>\n",
              "      <td>3.0</td>\n",
              "      <td>0.0</td>\n",
              "      <td>1983, 1985</td>\n",
              "      <td>0.0</td>\n",
              "      <td>0.0</td>\n",
              "      <td>0.0</td>\n",
              "      <td>1980</td>\n",
              "    </tr>\n",
              "    <tr>\n",
              "      <th>3</th>\n",
              "      <td>Andrea de Adamich</td>\n",
              "      <td>Italy</td>\n",
              "      <td>False</td>\n",
              "      <td>30.0</td>\n",
              "      <td>0.0</td>\n",
              "      <td>1968, 1970, 1971, 1972, 1973</td>\n",
              "      <td>0.0</td>\n",
              "      <td>0.0</td>\n",
              "      <td>0.0</td>\n",
              "      <td>1970</td>\n",
              "    </tr>\n",
              "    <tr>\n",
              "      <th>4</th>\n",
              "      <td>Philippe Adams</td>\n",
              "      <td>Belgium</td>\n",
              "      <td>False</td>\n",
              "      <td>2.0</td>\n",
              "      <td>0.0</td>\n",
              "      <td>1994</td>\n",
              "      <td>0.0</td>\n",
              "      <td>0.0</td>\n",
              "      <td>0.0</td>\n",
              "      <td>1990</td>\n",
              "    </tr>\n",
              "  </tbody>\n",
              "</table>\n",
              "</div>\n",
              "    <div class=\"colab-df-buttons\">\n",
              "\n",
              "  <div class=\"colab-df-container\">\n",
              "    <button class=\"colab-df-convert\" onclick=\"convertToInteractive('df-511e79f4-0e3e-439c-9067-98dd0e21b0ec')\"\n",
              "            title=\"Convert this dataframe to an interactive table.\"\n",
              "            style=\"display:none;\">\n",
              "\n",
              "  <svg xmlns=\"http://www.w3.org/2000/svg\" height=\"24px\" viewBox=\"0 -960 960 960\">\n",
              "    <path d=\"M120-120v-720h720v720H120Zm60-500h600v-160H180v160Zm220 220h160v-160H400v160Zm0 220h160v-160H400v160ZM180-400h160v-160H180v160Zm440 0h160v-160H620v160ZM180-180h160v-160H180v160Zm440 0h160v-160H620v160Z\"/>\n",
              "  </svg>\n",
              "    </button>\n",
              "\n",
              "  <style>\n",
              "    .colab-df-container {\n",
              "      display:flex;\n",
              "      gap: 12px;\n",
              "    }\n",
              "\n",
              "    .colab-df-convert {\n",
              "      background-color: #E8F0FE;\n",
              "      border: none;\n",
              "      border-radius: 50%;\n",
              "      cursor: pointer;\n",
              "      display: none;\n",
              "      fill: #1967D2;\n",
              "      height: 32px;\n",
              "      padding: 0 0 0 0;\n",
              "      width: 32px;\n",
              "    }\n",
              "\n",
              "    .colab-df-convert:hover {\n",
              "      background-color: #E2EBFA;\n",
              "      box-shadow: 0px 1px 2px rgba(60, 64, 67, 0.3), 0px 1px 3px 1px rgba(60, 64, 67, 0.15);\n",
              "      fill: #174EA6;\n",
              "    }\n",
              "\n",
              "    .colab-df-buttons div {\n",
              "      margin-bottom: 4px;\n",
              "    }\n",
              "\n",
              "    [theme=dark] .colab-df-convert {\n",
              "      background-color: #3B4455;\n",
              "      fill: #D2E3FC;\n",
              "    }\n",
              "\n",
              "    [theme=dark] .colab-df-convert:hover {\n",
              "      background-color: #434B5C;\n",
              "      box-shadow: 0px 1px 3px 1px rgba(0, 0, 0, 0.15);\n",
              "      filter: drop-shadow(0px 1px 2px rgba(0, 0, 0, 0.3));\n",
              "      fill: #FFFFFF;\n",
              "    }\n",
              "  </style>\n",
              "\n",
              "    <script>\n",
              "      const buttonEl =\n",
              "        document.querySelector('#df-511e79f4-0e3e-439c-9067-98dd0e21b0ec button.colab-df-convert');\n",
              "      buttonEl.style.display =\n",
              "        google.colab.kernel.accessAllowed ? 'block' : 'none';\n",
              "\n",
              "      async function convertToInteractive(key) {\n",
              "        const element = document.querySelector('#df-511e79f4-0e3e-439c-9067-98dd0e21b0ec');\n",
              "        const dataTable =\n",
              "          await google.colab.kernel.invokeFunction('convertToInteractive',\n",
              "                                                    [key], {});\n",
              "        if (!dataTable) return;\n",
              "\n",
              "        const docLinkHtml = 'Like what you see? Visit the ' +\n",
              "          '<a target=\"_blank\" href=https://colab.research.google.com/notebooks/data_table.ipynb>data table notebook</a>'\n",
              "          + ' to learn more about interactive tables.';\n",
              "        element.innerHTML = '';\n",
              "        dataTable['output_type'] = 'display_data';\n",
              "        await google.colab.output.renderOutput(dataTable, element);\n",
              "        const docLink = document.createElement('div');\n",
              "        docLink.innerHTML = docLinkHtml;\n",
              "        element.appendChild(docLink);\n",
              "      }\n",
              "    </script>\n",
              "  </div>\n",
              "\n",
              "\n",
              "<div id=\"df-823cc663-49d8-44b3-bb42-9d4b2d631731\">\n",
              "  <button class=\"colab-df-quickchart\" onclick=\"quickchart('df-823cc663-49d8-44b3-bb42-9d4b2d631731')\"\n",
              "            title=\"Suggest charts.\"\n",
              "            style=\"display:none;\">\n",
              "\n",
              "<svg xmlns=\"http://www.w3.org/2000/svg\" height=\"24px\"viewBox=\"0 0 24 24\"\n",
              "     width=\"24px\">\n",
              "    <g>\n",
              "        <path d=\"M19 3H5c-1.1 0-2 .9-2 2v14c0 1.1.9 2 2 2h14c1.1 0 2-.9 2-2V5c0-1.1-.9-2-2-2zM9 17H7v-7h2v7zm4 0h-2V7h2v10zm4 0h-2v-4h2v4z\"/>\n",
              "    </g>\n",
              "</svg>\n",
              "  </button>\n",
              "\n",
              "<style>\n",
              "  .colab-df-quickchart {\n",
              "      --bg-color: #E8F0FE;\n",
              "      --fill-color: #1967D2;\n",
              "      --hover-bg-color: #E2EBFA;\n",
              "      --hover-fill-color: #174EA6;\n",
              "      --disabled-fill-color: #AAA;\n",
              "      --disabled-bg-color: #DDD;\n",
              "  }\n",
              "\n",
              "  [theme=dark] .colab-df-quickchart {\n",
              "      --bg-color: #3B4455;\n",
              "      --fill-color: #D2E3FC;\n",
              "      --hover-bg-color: #434B5C;\n",
              "      --hover-fill-color: #FFFFFF;\n",
              "      --disabled-bg-color: #3B4455;\n",
              "      --disabled-fill-color: #666;\n",
              "  }\n",
              "\n",
              "  .colab-df-quickchart {\n",
              "    background-color: var(--bg-color);\n",
              "    border: none;\n",
              "    border-radius: 50%;\n",
              "    cursor: pointer;\n",
              "    display: none;\n",
              "    fill: var(--fill-color);\n",
              "    height: 32px;\n",
              "    padding: 0;\n",
              "    width: 32px;\n",
              "  }\n",
              "\n",
              "  .colab-df-quickchart:hover {\n",
              "    background-color: var(--hover-bg-color);\n",
              "    box-shadow: 0 1px 2px rgba(60, 64, 67, 0.3), 0 1px 3px 1px rgba(60, 64, 67, 0.15);\n",
              "    fill: var(--button-hover-fill-color);\n",
              "  }\n",
              "\n",
              "  .colab-df-quickchart-complete:disabled,\n",
              "  .colab-df-quickchart-complete:disabled:hover {\n",
              "    background-color: var(--disabled-bg-color);\n",
              "    fill: var(--disabled-fill-color);\n",
              "    box-shadow: none;\n",
              "  }\n",
              "\n",
              "  .colab-df-spinner {\n",
              "    border: 2px solid var(--fill-color);\n",
              "    border-color: transparent;\n",
              "    border-bottom-color: var(--fill-color);\n",
              "    animation:\n",
              "      spin 1s steps(1) infinite;\n",
              "  }\n",
              "\n",
              "  @keyframes spin {\n",
              "    0% {\n",
              "      border-color: transparent;\n",
              "      border-bottom-color: var(--fill-color);\n",
              "      border-left-color: var(--fill-color);\n",
              "    }\n",
              "    20% {\n",
              "      border-color: transparent;\n",
              "      border-left-color: var(--fill-color);\n",
              "      border-top-color: var(--fill-color);\n",
              "    }\n",
              "    30% {\n",
              "      border-color: transparent;\n",
              "      border-left-color: var(--fill-color);\n",
              "      border-top-color: var(--fill-color);\n",
              "      border-right-color: var(--fill-color);\n",
              "    }\n",
              "    40% {\n",
              "      border-color: transparent;\n",
              "      border-right-color: var(--fill-color);\n",
              "      border-top-color: var(--fill-color);\n",
              "    }\n",
              "    60% {\n",
              "      border-color: transparent;\n",
              "      border-right-color: var(--fill-color);\n",
              "    }\n",
              "    80% {\n",
              "      border-color: transparent;\n",
              "      border-right-color: var(--fill-color);\n",
              "      border-bottom-color: var(--fill-color);\n",
              "    }\n",
              "    90% {\n",
              "      border-color: transparent;\n",
              "      border-bottom-color: var(--fill-color);\n",
              "    }\n",
              "  }\n",
              "</style>\n",
              "\n",
              "  <script>\n",
              "    async function quickchart(key) {\n",
              "      const quickchartButtonEl =\n",
              "        document.querySelector('#' + key + ' button');\n",
              "      quickchartButtonEl.disabled = true;  // To prevent multiple clicks.\n",
              "      quickchartButtonEl.classList.add('colab-df-spinner');\n",
              "      try {\n",
              "        const charts = await google.colab.kernel.invokeFunction(\n",
              "            'suggestCharts', [key], {});\n",
              "      } catch (error) {\n",
              "        console.error('Error during call to suggestCharts:', error);\n",
              "      }\n",
              "      quickchartButtonEl.classList.remove('colab-df-spinner');\n",
              "      quickchartButtonEl.classList.add('colab-df-quickchart-complete');\n",
              "    }\n",
              "    (() => {\n",
              "      let quickchartButtonEl =\n",
              "        document.querySelector('#df-823cc663-49d8-44b3-bb42-9d4b2d631731 button');\n",
              "      quickchartButtonEl.style.display =\n",
              "        google.colab.kernel.accessAllowed ? 'block' : 'none';\n",
              "    })();\n",
              "  </script>\n",
              "</div>\n",
              "    </div>\n",
              "  </div>\n"
            ]
          },
          "metadata": {},
          "execution_count": 84
        }
      ]
    },
    {
      "cell_type": "markdown",
      "source": [
        "#Question 1"
      ],
      "metadata": {
        "id": "eFnjGiiR1zXs"
      }
    },
    {
      "cell_type": "markdown",
      "source": [
        "###Which driver has won the most races? (NOT championships)"
      ],
      "metadata": {
        "id": "AU0JXmX612al"
      }
    },
    {
      "cell_type": "code",
      "source": [
        "f1_df[f1_df[\"Race_Wins\"] == f1_df[\"Race_Wins\"].max()]"
      ],
      "metadata": {
        "colab": {
          "base_uri": "https://localhost:8080/",
          "height": 98
        },
        "id": "BX6TJoZz1pgB",
        "outputId": "90056f13-6d68-430e-e287-7fec68293873"
      },
      "execution_count": 85,
      "outputs": [
        {
          "output_type": "execute_result",
          "data": {
            "text/plain": [
              "             Driver         Country  Has_Won_A_Championship  Total_Races  \\\n",
              "338  Lewis Hamilton  United Kingdom                    True        311.0   \n",
              "\n",
              "     Race_Wins                                            Seasons  \\\n",
              "338      103.0  2007, 2008, 2009, 2010, 2011, 2012, 2013, 2014...   \n",
              "\n",
              "     Pole_Positions  Total_Championships_Won  Race_Podiums  Decade  \n",
              "338           103.0                      7.0         191.0    2010  "
            ],
            "text/html": [
              "\n",
              "  <div id=\"df-5268422a-90ae-4bd1-8fce-cfb8bf4ff747\" class=\"colab-df-container\">\n",
              "    <div>\n",
              "<style scoped>\n",
              "    .dataframe tbody tr th:only-of-type {\n",
              "        vertical-align: middle;\n",
              "    }\n",
              "\n",
              "    .dataframe tbody tr th {\n",
              "        vertical-align: top;\n",
              "    }\n",
              "\n",
              "    .dataframe thead th {\n",
              "        text-align: right;\n",
              "    }\n",
              "</style>\n",
              "<table border=\"1\" class=\"dataframe\">\n",
              "  <thead>\n",
              "    <tr style=\"text-align: right;\">\n",
              "      <th></th>\n",
              "      <th>Driver</th>\n",
              "      <th>Country</th>\n",
              "      <th>Has_Won_A_Championship</th>\n",
              "      <th>Total_Races</th>\n",
              "      <th>Race_Wins</th>\n",
              "      <th>Seasons</th>\n",
              "      <th>Pole_Positions</th>\n",
              "      <th>Total_Championships_Won</th>\n",
              "      <th>Race_Podiums</th>\n",
              "      <th>Decade</th>\n",
              "    </tr>\n",
              "  </thead>\n",
              "  <tbody>\n",
              "    <tr>\n",
              "      <th>338</th>\n",
              "      <td>Lewis Hamilton</td>\n",
              "      <td>United Kingdom</td>\n",
              "      <td>True</td>\n",
              "      <td>311.0</td>\n",
              "      <td>103.0</td>\n",
              "      <td>2007, 2008, 2009, 2010, 2011, 2012, 2013, 2014...</td>\n",
              "      <td>103.0</td>\n",
              "      <td>7.0</td>\n",
              "      <td>191.0</td>\n",
              "      <td>2010</td>\n",
              "    </tr>\n",
              "  </tbody>\n",
              "</table>\n",
              "</div>\n",
              "    <div class=\"colab-df-buttons\">\n",
              "\n",
              "  <div class=\"colab-df-container\">\n",
              "    <button class=\"colab-df-convert\" onclick=\"convertToInteractive('df-5268422a-90ae-4bd1-8fce-cfb8bf4ff747')\"\n",
              "            title=\"Convert this dataframe to an interactive table.\"\n",
              "            style=\"display:none;\">\n",
              "\n",
              "  <svg xmlns=\"http://www.w3.org/2000/svg\" height=\"24px\" viewBox=\"0 -960 960 960\">\n",
              "    <path d=\"M120-120v-720h720v720H120Zm60-500h600v-160H180v160Zm220 220h160v-160H400v160Zm0 220h160v-160H400v160ZM180-400h160v-160H180v160Zm440 0h160v-160H620v160ZM180-180h160v-160H180v160Zm440 0h160v-160H620v160Z\"/>\n",
              "  </svg>\n",
              "    </button>\n",
              "\n",
              "  <style>\n",
              "    .colab-df-container {\n",
              "      display:flex;\n",
              "      gap: 12px;\n",
              "    }\n",
              "\n",
              "    .colab-df-convert {\n",
              "      background-color: #E8F0FE;\n",
              "      border: none;\n",
              "      border-radius: 50%;\n",
              "      cursor: pointer;\n",
              "      display: none;\n",
              "      fill: #1967D2;\n",
              "      height: 32px;\n",
              "      padding: 0 0 0 0;\n",
              "      width: 32px;\n",
              "    }\n",
              "\n",
              "    .colab-df-convert:hover {\n",
              "      background-color: #E2EBFA;\n",
              "      box-shadow: 0px 1px 2px rgba(60, 64, 67, 0.3), 0px 1px 3px 1px rgba(60, 64, 67, 0.15);\n",
              "      fill: #174EA6;\n",
              "    }\n",
              "\n",
              "    .colab-df-buttons div {\n",
              "      margin-bottom: 4px;\n",
              "    }\n",
              "\n",
              "    [theme=dark] .colab-df-convert {\n",
              "      background-color: #3B4455;\n",
              "      fill: #D2E3FC;\n",
              "    }\n",
              "\n",
              "    [theme=dark] .colab-df-convert:hover {\n",
              "      background-color: #434B5C;\n",
              "      box-shadow: 0px 1px 3px 1px rgba(0, 0, 0, 0.15);\n",
              "      filter: drop-shadow(0px 1px 2px rgba(0, 0, 0, 0.3));\n",
              "      fill: #FFFFFF;\n",
              "    }\n",
              "  </style>\n",
              "\n",
              "    <script>\n",
              "      const buttonEl =\n",
              "        document.querySelector('#df-5268422a-90ae-4bd1-8fce-cfb8bf4ff747 button.colab-df-convert');\n",
              "      buttonEl.style.display =\n",
              "        google.colab.kernel.accessAllowed ? 'block' : 'none';\n",
              "\n",
              "      async function convertToInteractive(key) {\n",
              "        const element = document.querySelector('#df-5268422a-90ae-4bd1-8fce-cfb8bf4ff747');\n",
              "        const dataTable =\n",
              "          await google.colab.kernel.invokeFunction('convertToInteractive',\n",
              "                                                    [key], {});\n",
              "        if (!dataTable) return;\n",
              "\n",
              "        const docLinkHtml = 'Like what you see? Visit the ' +\n",
              "          '<a target=\"_blank\" href=https://colab.research.google.com/notebooks/data_table.ipynb>data table notebook</a>'\n",
              "          + ' to learn more about interactive tables.';\n",
              "        element.innerHTML = '';\n",
              "        dataTable['output_type'] = 'display_data';\n",
              "        await google.colab.output.renderOutput(dataTable, element);\n",
              "        const docLink = document.createElement('div');\n",
              "        docLink.innerHTML = docLinkHtml;\n",
              "        element.appendChild(docLink);\n",
              "      }\n",
              "    </script>\n",
              "  </div>\n",
              "\n",
              "    </div>\n",
              "  </div>\n"
            ]
          },
          "metadata": {},
          "execution_count": 85
        }
      ]
    },
    {
      "cell_type": "markdown",
      "source": [
        "#Question 2"
      ],
      "metadata": {
        "id": "U-yJ24qI3BmQ"
      }
    },
    {
      "cell_type": "markdown",
      "source": [
        "###Which country has the most champions? How many champions?"
      ],
      "metadata": {
        "id": "3KIjaFOP3EqE"
      }
    },
    {
      "cell_type": "code",
      "source": [
        "# Sum up championship wins by country\n",
        "country_df = f1_df.groupby([\"Country\"])[\"Total_Championships_Won\"].sum()\n",
        "\n",
        "# Find country with most champions\n",
        "country_df = country_df.sort_values(ascending = False)\n",
        "country_df.head(1)"
      ],
      "metadata": {
        "colab": {
          "base_uri": "https://localhost:8080/"
        },
        "id": "9vkfE0oW2joW",
        "outputId": "5acd8c96-3afe-48dc-c950-a9b8d2b5de4f"
      },
      "execution_count": 86,
      "outputs": [
        {
          "output_type": "execute_result",
          "data": {
            "text/plain": [
              "Country\n",
              "United Kingdom    20.0\n",
              "Name: Total_Championships_Won, dtype: float64"
            ]
          },
          "metadata": {},
          "execution_count": 86
        }
      ]
    },
    {
      "cell_type": "markdown",
      "source": [
        "# Question 3"
      ],
      "metadata": {
        "id": "x_BMjInU6fbi"
      }
    },
    {
      "cell_type": "markdown",
      "source": [
        "### Of all drivers who have participated in at least 5 races, who has won the highest proportion of races they competed in?"
      ],
      "metadata": {
        "id": "-vB6TxNz6hRX"
      }
    },
    {
      "cell_type": "code",
      "source": [
        "# Find all drivers with at least 5 races\n",
        "five_races_df = f1_df[f1_df[\"Total_Races\"] >= 5]\n",
        "five_races_df.head()"
      ],
      "metadata": {
        "colab": {
          "base_uri": "https://localhost:8080/",
          "height": 258
        },
        "id": "DcampvZs3aHX",
        "outputId": "613cc9b2-3b4d-4392-8534-008cdd1e7226"
      },
      "execution_count": 87,
      "outputs": [
        {
          "output_type": "execute_result",
          "data": {
            "text/plain": [
              "               Driver        Country  Has_Won_A_Championship  Total_Races  \\\n",
              "3   Andrea de Adamich          Italy                   False         30.0   \n",
              "7     Fred Agabashian  United States                   False          8.0   \n",
              "10  Christijan Albers    Netherlands                   False         46.0   \n",
              "11    Alexander Albon       Thailand                   False         60.0   \n",
              "12   Michele Alboreto          Italy                   False        194.0   \n",
              "\n",
              "    Race_Wins                                            Seasons  \\\n",
              "3         0.0                       1968, 1970, 1971, 1972, 1973   \n",
              "7         0.0     1950, 1951, 1952, 1953, 1954, 1955, 1956, 1957   \n",
              "10        0.0                                   2005, 2006, 2007   \n",
              "11        0.0                                   2019, 2020, 2022   \n",
              "12        5.0  1981, 1982, 1983, 1984, 1985, 1986, 1987, 1988...   \n",
              "\n",
              "    Pole_Positions  Total_Championships_Won  Race_Podiums  Decade  \n",
              "3              0.0                      0.0           0.0    1970  \n",
              "7              1.0                      0.0           0.0    1950  \n",
              "10             0.0                      0.0           0.0    2010  \n",
              "11             0.0                      0.0           2.0    2020  \n",
              "12             2.0                      0.0          23.0    1990  "
            ],
            "text/html": [
              "\n",
              "  <div id=\"df-b62d6f4c-cb1d-4e57-8c1b-c546109a6558\" class=\"colab-df-container\">\n",
              "    <div>\n",
              "<style scoped>\n",
              "    .dataframe tbody tr th:only-of-type {\n",
              "        vertical-align: middle;\n",
              "    }\n",
              "\n",
              "    .dataframe tbody tr th {\n",
              "        vertical-align: top;\n",
              "    }\n",
              "\n",
              "    .dataframe thead th {\n",
              "        text-align: right;\n",
              "    }\n",
              "</style>\n",
              "<table border=\"1\" class=\"dataframe\">\n",
              "  <thead>\n",
              "    <tr style=\"text-align: right;\">\n",
              "      <th></th>\n",
              "      <th>Driver</th>\n",
              "      <th>Country</th>\n",
              "      <th>Has_Won_A_Championship</th>\n",
              "      <th>Total_Races</th>\n",
              "      <th>Race_Wins</th>\n",
              "      <th>Seasons</th>\n",
              "      <th>Pole_Positions</th>\n",
              "      <th>Total_Championships_Won</th>\n",
              "      <th>Race_Podiums</th>\n",
              "      <th>Decade</th>\n",
              "    </tr>\n",
              "  </thead>\n",
              "  <tbody>\n",
              "    <tr>\n",
              "      <th>3</th>\n",
              "      <td>Andrea de Adamich</td>\n",
              "      <td>Italy</td>\n",
              "      <td>False</td>\n",
              "      <td>30.0</td>\n",
              "      <td>0.0</td>\n",
              "      <td>1968, 1970, 1971, 1972, 1973</td>\n",
              "      <td>0.0</td>\n",
              "      <td>0.0</td>\n",
              "      <td>0.0</td>\n",
              "      <td>1970</td>\n",
              "    </tr>\n",
              "    <tr>\n",
              "      <th>7</th>\n",
              "      <td>Fred Agabashian</td>\n",
              "      <td>United States</td>\n",
              "      <td>False</td>\n",
              "      <td>8.0</td>\n",
              "      <td>0.0</td>\n",
              "      <td>1950, 1951, 1952, 1953, 1954, 1955, 1956, 1957</td>\n",
              "      <td>1.0</td>\n",
              "      <td>0.0</td>\n",
              "      <td>0.0</td>\n",
              "      <td>1950</td>\n",
              "    </tr>\n",
              "    <tr>\n",
              "      <th>10</th>\n",
              "      <td>Christijan Albers</td>\n",
              "      <td>Netherlands</td>\n",
              "      <td>False</td>\n",
              "      <td>46.0</td>\n",
              "      <td>0.0</td>\n",
              "      <td>2005, 2006, 2007</td>\n",
              "      <td>0.0</td>\n",
              "      <td>0.0</td>\n",
              "      <td>0.0</td>\n",
              "      <td>2010</td>\n",
              "    </tr>\n",
              "    <tr>\n",
              "      <th>11</th>\n",
              "      <td>Alexander Albon</td>\n",
              "      <td>Thailand</td>\n",
              "      <td>False</td>\n",
              "      <td>60.0</td>\n",
              "      <td>0.0</td>\n",
              "      <td>2019, 2020, 2022</td>\n",
              "      <td>0.0</td>\n",
              "      <td>0.0</td>\n",
              "      <td>2.0</td>\n",
              "      <td>2020</td>\n",
              "    </tr>\n",
              "    <tr>\n",
              "      <th>12</th>\n",
              "      <td>Michele Alboreto</td>\n",
              "      <td>Italy</td>\n",
              "      <td>False</td>\n",
              "      <td>194.0</td>\n",
              "      <td>5.0</td>\n",
              "      <td>1981, 1982, 1983, 1984, 1985, 1986, 1987, 1988...</td>\n",
              "      <td>2.0</td>\n",
              "      <td>0.0</td>\n",
              "      <td>23.0</td>\n",
              "      <td>1990</td>\n",
              "    </tr>\n",
              "  </tbody>\n",
              "</table>\n",
              "</div>\n",
              "    <div class=\"colab-df-buttons\">\n",
              "\n",
              "  <div class=\"colab-df-container\">\n",
              "    <button class=\"colab-df-convert\" onclick=\"convertToInteractive('df-b62d6f4c-cb1d-4e57-8c1b-c546109a6558')\"\n",
              "            title=\"Convert this dataframe to an interactive table.\"\n",
              "            style=\"display:none;\">\n",
              "\n",
              "  <svg xmlns=\"http://www.w3.org/2000/svg\" height=\"24px\" viewBox=\"0 -960 960 960\">\n",
              "    <path d=\"M120-120v-720h720v720H120Zm60-500h600v-160H180v160Zm220 220h160v-160H400v160Zm0 220h160v-160H400v160ZM180-400h160v-160H180v160Zm440 0h160v-160H620v160ZM180-180h160v-160H180v160Zm440 0h160v-160H620v160Z\"/>\n",
              "  </svg>\n",
              "    </button>\n",
              "\n",
              "  <style>\n",
              "    .colab-df-container {\n",
              "      display:flex;\n",
              "      gap: 12px;\n",
              "    }\n",
              "\n",
              "    .colab-df-convert {\n",
              "      background-color: #E8F0FE;\n",
              "      border: none;\n",
              "      border-radius: 50%;\n",
              "      cursor: pointer;\n",
              "      display: none;\n",
              "      fill: #1967D2;\n",
              "      height: 32px;\n",
              "      padding: 0 0 0 0;\n",
              "      width: 32px;\n",
              "    }\n",
              "\n",
              "    .colab-df-convert:hover {\n",
              "      background-color: #E2EBFA;\n",
              "      box-shadow: 0px 1px 2px rgba(60, 64, 67, 0.3), 0px 1px 3px 1px rgba(60, 64, 67, 0.15);\n",
              "      fill: #174EA6;\n",
              "    }\n",
              "\n",
              "    .colab-df-buttons div {\n",
              "      margin-bottom: 4px;\n",
              "    }\n",
              "\n",
              "    [theme=dark] .colab-df-convert {\n",
              "      background-color: #3B4455;\n",
              "      fill: #D2E3FC;\n",
              "    }\n",
              "\n",
              "    [theme=dark] .colab-df-convert:hover {\n",
              "      background-color: #434B5C;\n",
              "      box-shadow: 0px 1px 3px 1px rgba(0, 0, 0, 0.15);\n",
              "      filter: drop-shadow(0px 1px 2px rgba(0, 0, 0, 0.3));\n",
              "      fill: #FFFFFF;\n",
              "    }\n",
              "  </style>\n",
              "\n",
              "    <script>\n",
              "      const buttonEl =\n",
              "        document.querySelector('#df-b62d6f4c-cb1d-4e57-8c1b-c546109a6558 button.colab-df-convert');\n",
              "      buttonEl.style.display =\n",
              "        google.colab.kernel.accessAllowed ? 'block' : 'none';\n",
              "\n",
              "      async function convertToInteractive(key) {\n",
              "        const element = document.querySelector('#df-b62d6f4c-cb1d-4e57-8c1b-c546109a6558');\n",
              "        const dataTable =\n",
              "          await google.colab.kernel.invokeFunction('convertToInteractive',\n",
              "                                                    [key], {});\n",
              "        if (!dataTable) return;\n",
              "\n",
              "        const docLinkHtml = 'Like what you see? Visit the ' +\n",
              "          '<a target=\"_blank\" href=https://colab.research.google.com/notebooks/data_table.ipynb>data table notebook</a>'\n",
              "          + ' to learn more about interactive tables.';\n",
              "        element.innerHTML = '';\n",
              "        dataTable['output_type'] = 'display_data';\n",
              "        await google.colab.output.renderOutput(dataTable, element);\n",
              "        const docLink = document.createElement('div');\n",
              "        docLink.innerHTML = docLinkHtml;\n",
              "        element.appendChild(docLink);\n",
              "      }\n",
              "    </script>\n",
              "  </div>\n",
              "\n",
              "\n",
              "<div id=\"df-036f535a-7e53-4e12-acd5-2a39a7d6e1fc\">\n",
              "  <button class=\"colab-df-quickchart\" onclick=\"quickchart('df-036f535a-7e53-4e12-acd5-2a39a7d6e1fc')\"\n",
              "            title=\"Suggest charts.\"\n",
              "            style=\"display:none;\">\n",
              "\n",
              "<svg xmlns=\"http://www.w3.org/2000/svg\" height=\"24px\"viewBox=\"0 0 24 24\"\n",
              "     width=\"24px\">\n",
              "    <g>\n",
              "        <path d=\"M19 3H5c-1.1 0-2 .9-2 2v14c0 1.1.9 2 2 2h14c1.1 0 2-.9 2-2V5c0-1.1-.9-2-2-2zM9 17H7v-7h2v7zm4 0h-2V7h2v10zm4 0h-2v-4h2v4z\"/>\n",
              "    </g>\n",
              "</svg>\n",
              "  </button>\n",
              "\n",
              "<style>\n",
              "  .colab-df-quickchart {\n",
              "      --bg-color: #E8F0FE;\n",
              "      --fill-color: #1967D2;\n",
              "      --hover-bg-color: #E2EBFA;\n",
              "      --hover-fill-color: #174EA6;\n",
              "      --disabled-fill-color: #AAA;\n",
              "      --disabled-bg-color: #DDD;\n",
              "  }\n",
              "\n",
              "  [theme=dark] .colab-df-quickchart {\n",
              "      --bg-color: #3B4455;\n",
              "      --fill-color: #D2E3FC;\n",
              "      --hover-bg-color: #434B5C;\n",
              "      --hover-fill-color: #FFFFFF;\n",
              "      --disabled-bg-color: #3B4455;\n",
              "      --disabled-fill-color: #666;\n",
              "  }\n",
              "\n",
              "  .colab-df-quickchart {\n",
              "    background-color: var(--bg-color);\n",
              "    border: none;\n",
              "    border-radius: 50%;\n",
              "    cursor: pointer;\n",
              "    display: none;\n",
              "    fill: var(--fill-color);\n",
              "    height: 32px;\n",
              "    padding: 0;\n",
              "    width: 32px;\n",
              "  }\n",
              "\n",
              "  .colab-df-quickchart:hover {\n",
              "    background-color: var(--hover-bg-color);\n",
              "    box-shadow: 0 1px 2px rgba(60, 64, 67, 0.3), 0 1px 3px 1px rgba(60, 64, 67, 0.15);\n",
              "    fill: var(--button-hover-fill-color);\n",
              "  }\n",
              "\n",
              "  .colab-df-quickchart-complete:disabled,\n",
              "  .colab-df-quickchart-complete:disabled:hover {\n",
              "    background-color: var(--disabled-bg-color);\n",
              "    fill: var(--disabled-fill-color);\n",
              "    box-shadow: none;\n",
              "  }\n",
              "\n",
              "  .colab-df-spinner {\n",
              "    border: 2px solid var(--fill-color);\n",
              "    border-color: transparent;\n",
              "    border-bottom-color: var(--fill-color);\n",
              "    animation:\n",
              "      spin 1s steps(1) infinite;\n",
              "  }\n",
              "\n",
              "  @keyframes spin {\n",
              "    0% {\n",
              "      border-color: transparent;\n",
              "      border-bottom-color: var(--fill-color);\n",
              "      border-left-color: var(--fill-color);\n",
              "    }\n",
              "    20% {\n",
              "      border-color: transparent;\n",
              "      border-left-color: var(--fill-color);\n",
              "      border-top-color: var(--fill-color);\n",
              "    }\n",
              "    30% {\n",
              "      border-color: transparent;\n",
              "      border-left-color: var(--fill-color);\n",
              "      border-top-color: var(--fill-color);\n",
              "      border-right-color: var(--fill-color);\n",
              "    }\n",
              "    40% {\n",
              "      border-color: transparent;\n",
              "      border-right-color: var(--fill-color);\n",
              "      border-top-color: var(--fill-color);\n",
              "    }\n",
              "    60% {\n",
              "      border-color: transparent;\n",
              "      border-right-color: var(--fill-color);\n",
              "    }\n",
              "    80% {\n",
              "      border-color: transparent;\n",
              "      border-right-color: var(--fill-color);\n",
              "      border-bottom-color: var(--fill-color);\n",
              "    }\n",
              "    90% {\n",
              "      border-color: transparent;\n",
              "      border-bottom-color: var(--fill-color);\n",
              "    }\n",
              "  }\n",
              "</style>\n",
              "\n",
              "  <script>\n",
              "    async function quickchart(key) {\n",
              "      const quickchartButtonEl =\n",
              "        document.querySelector('#' + key + ' button');\n",
              "      quickchartButtonEl.disabled = true;  // To prevent multiple clicks.\n",
              "      quickchartButtonEl.classList.add('colab-df-spinner');\n",
              "      try {\n",
              "        const charts = await google.colab.kernel.invokeFunction(\n",
              "            'suggestCharts', [key], {});\n",
              "      } catch (error) {\n",
              "        console.error('Error during call to suggestCharts:', error);\n",
              "      }\n",
              "      quickchartButtonEl.classList.remove('colab-df-spinner');\n",
              "      quickchartButtonEl.classList.add('colab-df-quickchart-complete');\n",
              "    }\n",
              "    (() => {\n",
              "      let quickchartButtonEl =\n",
              "        document.querySelector('#df-036f535a-7e53-4e12-acd5-2a39a7d6e1fc button');\n",
              "      quickchartButtonEl.style.display =\n",
              "        google.colab.kernel.accessAllowed ? 'block' : 'none';\n",
              "    })();\n",
              "  </script>\n",
              "</div>\n",
              "    </div>\n",
              "  </div>\n"
            ]
          },
          "metadata": {},
          "execution_count": 87
        }
      ]
    },
    {
      "cell_type": "code",
      "source": [
        "# Create column for proportion of races won\n",
        "five_races_df[\"Win_Rate\"] = five_races_df[\"Race_Wins\"] / five_races_df[\"Total_Races\"]\n",
        "\n",
        "# Find driver with highest win proportion\n",
        "five_races_df[five_races_df[\"Win_Rate\"] == five_races_df[\"Win_Rate\"].max()]"
      ],
      "metadata": {
        "colab": {
          "base_uri": "https://localhost:8080/",
          "height": 202
        },
        "id": "0NmAJXA47NtG",
        "outputId": "9d2383a9-9f90-4583-94a1-dce0ae059738"
      },
      "execution_count": 88,
      "outputs": [
        {
          "output_type": "stream",
          "name": "stderr",
          "text": [
            "<ipython-input-88-988a88858578>:2: SettingWithCopyWarning: \n",
            "A value is trying to be set on a copy of a slice from a DataFrame.\n",
            "Try using .loc[row_indexer,col_indexer] = value instead\n",
            "\n",
            "See the caveats in the documentation: https://pandas.pydata.org/pandas-docs/stable/user_guide/indexing.html#returning-a-view-versus-a-copy\n",
            "  five_races_df[\"Win_Rate\"] = five_races_df[\"Race_Wins\"] / five_races_df[\"Total_Races\"]\n"
          ]
        },
        {
          "output_type": "execute_result",
          "data": {
            "text/plain": [
              "                 Driver    Country  Has_Won_A_Championship  Total_Races  \\\n",
              "238  Juan Manuel Fangio  Argentina                    True         51.0   \n",
              "\n",
              "     Race_Wins                                         Seasons  \\\n",
              "238       24.0  1950, 1951, 1953, 1954, 1955, 1956, 1957, 1958   \n",
              "\n",
              "     Pole_Positions  Total_Championships_Won  Race_Podiums  Decade  Win_Rate  \n",
              "238            29.0                      5.0          35.0    1950  0.470588  "
            ],
            "text/html": [
              "\n",
              "  <div id=\"df-8f443865-f65c-4934-8cf5-5fed16c324d2\" class=\"colab-df-container\">\n",
              "    <div>\n",
              "<style scoped>\n",
              "    .dataframe tbody tr th:only-of-type {\n",
              "        vertical-align: middle;\n",
              "    }\n",
              "\n",
              "    .dataframe tbody tr th {\n",
              "        vertical-align: top;\n",
              "    }\n",
              "\n",
              "    .dataframe thead th {\n",
              "        text-align: right;\n",
              "    }\n",
              "</style>\n",
              "<table border=\"1\" class=\"dataframe\">\n",
              "  <thead>\n",
              "    <tr style=\"text-align: right;\">\n",
              "      <th></th>\n",
              "      <th>Driver</th>\n",
              "      <th>Country</th>\n",
              "      <th>Has_Won_A_Championship</th>\n",
              "      <th>Total_Races</th>\n",
              "      <th>Race_Wins</th>\n",
              "      <th>Seasons</th>\n",
              "      <th>Pole_Positions</th>\n",
              "      <th>Total_Championships_Won</th>\n",
              "      <th>Race_Podiums</th>\n",
              "      <th>Decade</th>\n",
              "      <th>Win_Rate</th>\n",
              "    </tr>\n",
              "  </thead>\n",
              "  <tbody>\n",
              "    <tr>\n",
              "      <th>238</th>\n",
              "      <td>Juan Manuel Fangio</td>\n",
              "      <td>Argentina</td>\n",
              "      <td>True</td>\n",
              "      <td>51.0</td>\n",
              "      <td>24.0</td>\n",
              "      <td>1950, 1951, 1953, 1954, 1955, 1956, 1957, 1958</td>\n",
              "      <td>29.0</td>\n",
              "      <td>5.0</td>\n",
              "      <td>35.0</td>\n",
              "      <td>1950</td>\n",
              "      <td>0.470588</td>\n",
              "    </tr>\n",
              "  </tbody>\n",
              "</table>\n",
              "</div>\n",
              "    <div class=\"colab-df-buttons\">\n",
              "\n",
              "  <div class=\"colab-df-container\">\n",
              "    <button class=\"colab-df-convert\" onclick=\"convertToInteractive('df-8f443865-f65c-4934-8cf5-5fed16c324d2')\"\n",
              "            title=\"Convert this dataframe to an interactive table.\"\n",
              "            style=\"display:none;\">\n",
              "\n",
              "  <svg xmlns=\"http://www.w3.org/2000/svg\" height=\"24px\" viewBox=\"0 -960 960 960\">\n",
              "    <path d=\"M120-120v-720h720v720H120Zm60-500h600v-160H180v160Zm220 220h160v-160H400v160Zm0 220h160v-160H400v160ZM180-400h160v-160H180v160Zm440 0h160v-160H620v160ZM180-180h160v-160H180v160Zm440 0h160v-160H620v160Z\"/>\n",
              "  </svg>\n",
              "    </button>\n",
              "\n",
              "  <style>\n",
              "    .colab-df-container {\n",
              "      display:flex;\n",
              "      gap: 12px;\n",
              "    }\n",
              "\n",
              "    .colab-df-convert {\n",
              "      background-color: #E8F0FE;\n",
              "      border: none;\n",
              "      border-radius: 50%;\n",
              "      cursor: pointer;\n",
              "      display: none;\n",
              "      fill: #1967D2;\n",
              "      height: 32px;\n",
              "      padding: 0 0 0 0;\n",
              "      width: 32px;\n",
              "    }\n",
              "\n",
              "    .colab-df-convert:hover {\n",
              "      background-color: #E2EBFA;\n",
              "      box-shadow: 0px 1px 2px rgba(60, 64, 67, 0.3), 0px 1px 3px 1px rgba(60, 64, 67, 0.15);\n",
              "      fill: #174EA6;\n",
              "    }\n",
              "\n",
              "    .colab-df-buttons div {\n",
              "      margin-bottom: 4px;\n",
              "    }\n",
              "\n",
              "    [theme=dark] .colab-df-convert {\n",
              "      background-color: #3B4455;\n",
              "      fill: #D2E3FC;\n",
              "    }\n",
              "\n",
              "    [theme=dark] .colab-df-convert:hover {\n",
              "      background-color: #434B5C;\n",
              "      box-shadow: 0px 1px 3px 1px rgba(0, 0, 0, 0.15);\n",
              "      filter: drop-shadow(0px 1px 2px rgba(0, 0, 0, 0.3));\n",
              "      fill: #FFFFFF;\n",
              "    }\n",
              "  </style>\n",
              "\n",
              "    <script>\n",
              "      const buttonEl =\n",
              "        document.querySelector('#df-8f443865-f65c-4934-8cf5-5fed16c324d2 button.colab-df-convert');\n",
              "      buttonEl.style.display =\n",
              "        google.colab.kernel.accessAllowed ? 'block' : 'none';\n",
              "\n",
              "      async function convertToInteractive(key) {\n",
              "        const element = document.querySelector('#df-8f443865-f65c-4934-8cf5-5fed16c324d2');\n",
              "        const dataTable =\n",
              "          await google.colab.kernel.invokeFunction('convertToInteractive',\n",
              "                                                    [key], {});\n",
              "        if (!dataTable) return;\n",
              "\n",
              "        const docLinkHtml = 'Like what you see? Visit the ' +\n",
              "          '<a target=\"_blank\" href=https://colab.research.google.com/notebooks/data_table.ipynb>data table notebook</a>'\n",
              "          + ' to learn more about interactive tables.';\n",
              "        element.innerHTML = '';\n",
              "        dataTable['output_type'] = 'display_data';\n",
              "        await google.colab.output.renderOutput(dataTable, element);\n",
              "        const docLink = document.createElement('div');\n",
              "        docLink.innerHTML = docLinkHtml;\n",
              "        element.appendChild(docLink);\n",
              "      }\n",
              "    </script>\n",
              "  </div>\n",
              "\n",
              "    </div>\n",
              "  </div>\n"
            ]
          },
          "metadata": {},
          "execution_count": 88
        }
      ]
    },
    {
      "cell_type": "markdown",
      "source": [
        "#Question 4"
      ],
      "metadata": {
        "id": "Lc517yyC8bne"
      }
    },
    {
      "cell_type": "markdown",
      "source": [
        "###Which driver(s) participated in the most seasons? How many seasons did they participate in?"
      ],
      "metadata": {
        "id": "WzVu0Fff8e_Q"
      }
    },
    {
      "cell_type": "code",
      "source": [
        "# Create new column for number of seasons participated\n",
        "f1_df[\"Total_Seasons\"] = f1_df[\"Seasons\"].str.split(',').str.len()\n",
        "\n",
        "# Sort drivers based on seasons participated\n",
        "most_seasons_df = f1_df.sort_values(\"Total_Seasons\", ascending = False)\n",
        "\n",
        "# Find drivers who participated in most seasons\n",
        "most_seasons_df.head(20)"
      ],
      "metadata": {
        "colab": {
          "base_uri": "https://localhost:8080/",
          "height": 1000
        },
        "id": "EXPA28oB72j1",
        "outputId": "cc02a3cd-7983-4d27-fcff-f8a1dded15f5"
      },
      "execution_count": 89,
      "outputs": [
        {
          "output_type": "execute_result",
          "data": {
            "text/plain": [
              "                  Driver         Country  Has_Won_A_Championship  Total_Races  \\\n",
              "54    Rubens Barrichello          Brazil                   False        322.0   \n",
              "635       Kimi Räikkönen         Finland                    True        349.0   \n",
              "710   Michael Schumacher         Germany                    True        306.0   \n",
              "17       Fernando Alonso           Spain                    True        356.0   \n",
              "364          Graham Hill  United Kingdom                    True        176.0   \n",
              "135        Jenson Button  United Kingdom                    True        306.0   \n",
              "590     Riccardo Patrese           Italy                   False        256.0   \n",
              "95            Jo Bonnier          Sweden                   False        104.0   \n",
              "107         Jack Brabham       Australia                    True        126.0   \n",
              "338       Lewis Hamilton  United Kingdom                    True        311.0   \n",
              "812     Sebastian Vettel         Germany                    True        299.0   \n",
              "501         Felipe Massa          Brazil                   False        269.0   \n",
              "150    Andrea de Cesaris           Italy                   False        208.0   \n",
              "797         Jarno Trulli           Italy                   False        252.0   \n",
              "179      David Coulthard  United Kingdom                   False        246.0   \n",
              "795  Maurice Trintignant          France                   False         82.0   \n",
              "489        Nigel Mansell  United Kingdom                    True        187.0   \n",
              "612        Nelson Piquet          Brazil                    True        204.0   \n",
              "72        Gerhard Berger         Austria                   False        210.0   \n",
              "21            Chris Amon     New Zealand                   False         96.0   \n",
              "\n",
              "     Race_Wins                                            Seasons  \\\n",
              "54        11.0  1993, 1994, 1995, 1996, 1997, 1998, 1999, 2000...   \n",
              "635       21.0  2001, 2002, 2003, 2004, 2005, 2006, 2007, 2008...   \n",
              "710       91.0  1991, 1992, 1993, 1994, 1995, 1996, 1997, 1998...   \n",
              "17        32.0  2001, 2003, 2004, 2005, 2006, 2007, 2008, 2009...   \n",
              "364       14.0  1958, 1959, 1960, 1961, 1962, 1963, 1964, 1965...   \n",
              "135       15.0  2000, 2001, 2002, 2003, 2004, 2005, 2006, 2007...   \n",
              "590        6.0  1977, 1978, 1979, 1980, 1981, 1982, 1983, 1984...   \n",
              "95         1.0  1956, 1957, 1958, 1959, 1960, 1961, 1962, 1963...   \n",
              "107       14.0  1955, 1956, 1957, 1958, 1959, 1960, 1961, 1962...   \n",
              "338      103.0  2007, 2008, 2009, 2010, 2011, 2012, 2013, 2014...   \n",
              "812       53.0  2007, 2008, 2009, 2010, 2011, 2012, 2013, 2014...   \n",
              "501       11.0  2002, 2004, 2005, 2006, 2007, 2008, 2009, 2010...   \n",
              "150        0.0  1980, 1981, 1982, 1983, 1984, 1985, 1986, 1987...   \n",
              "797        1.0  1997, 1998, 1999, 2000, 2001, 2002, 2003, 2004...   \n",
              "179       13.0  1994, 1995, 1996, 1997, 1998, 1999, 2000, 2001...   \n",
              "795        2.0  1950, 1951, 1952, 1953, 1954, 1955, 1956, 1957...   \n",
              "489       31.0  1980, 1981, 1982, 1983, 1984, 1985, 1986, 1987...   \n",
              "612       23.0  1978, 1979, 1980, 1981, 1982, 1983, 1984, 1985...   \n",
              "72        10.0  1984, 1985, 1986, 1987, 1988, 1989, 1990, 1991...   \n",
              "21         0.0  1963, 1964, 1965, 1966, 1967, 1968, 1969, 1970...   \n",
              "\n",
              "     Pole_Positions  Total_Championships_Won  Race_Podiums  Decade  \\\n",
              "54             14.0                      0.0          68.0    2000   \n",
              "635            18.0                      1.0         103.0    2010   \n",
              "710            68.0                      7.0         155.0    2000   \n",
              "17             22.0                      2.0          99.0    2010   \n",
              "364            13.0                      2.0          36.0    1970   \n",
              "135             8.0                      1.0          50.0    2010   \n",
              "590             8.0                      0.0          37.0    1980   \n",
              "95              1.0                      0.0           1.0    1960   \n",
              "107            13.0                      3.0          31.0    1960   \n",
              "338           103.0                      7.0         191.0    2010   \n",
              "812            57.0                      4.0         122.0    2010   \n",
              "501            16.0                      0.0          41.0    2010   \n",
              "150             1.0                      0.0           5.0    1990   \n",
              "797             4.0                      0.0          11.0    2000   \n",
              "179            12.0                      0.0          62.0    2000   \n",
              "795             0.0                      0.0          10.0    1960   \n",
              "489            32.0                      1.0          59.0    1990   \n",
              "612            24.0                      3.0          60.0    1980   \n",
              "72             12.0                      0.0          48.0    1990   \n",
              "21              5.0                      0.0          11.0    1970   \n",
              "\n",
              "     Total_Seasons  \n",
              "54              19  \n",
              "635             19  \n",
              "710             19  \n",
              "17              19  \n",
              "364             18  \n",
              "135             18  \n",
              "590             17  \n",
              "95              16  \n",
              "107             16  \n",
              "338             16  \n",
              "812             16  \n",
              "501             15  \n",
              "150             15  \n",
              "797             15  \n",
              "179             15  \n",
              "795             15  \n",
              "489             15  \n",
              "612             14  \n",
              "72              14  \n",
              "21              14  "
            ],
            "text/html": [
              "\n",
              "  <div id=\"df-eade250f-9ce5-4669-a017-d84e2288356d\" class=\"colab-df-container\">\n",
              "    <div>\n",
              "<style scoped>\n",
              "    .dataframe tbody tr th:only-of-type {\n",
              "        vertical-align: middle;\n",
              "    }\n",
              "\n",
              "    .dataframe tbody tr th {\n",
              "        vertical-align: top;\n",
              "    }\n",
              "\n",
              "    .dataframe thead th {\n",
              "        text-align: right;\n",
              "    }\n",
              "</style>\n",
              "<table border=\"1\" class=\"dataframe\">\n",
              "  <thead>\n",
              "    <tr style=\"text-align: right;\">\n",
              "      <th></th>\n",
              "      <th>Driver</th>\n",
              "      <th>Country</th>\n",
              "      <th>Has_Won_A_Championship</th>\n",
              "      <th>Total_Races</th>\n",
              "      <th>Race_Wins</th>\n",
              "      <th>Seasons</th>\n",
              "      <th>Pole_Positions</th>\n",
              "      <th>Total_Championships_Won</th>\n",
              "      <th>Race_Podiums</th>\n",
              "      <th>Decade</th>\n",
              "      <th>Total_Seasons</th>\n",
              "    </tr>\n",
              "  </thead>\n",
              "  <tbody>\n",
              "    <tr>\n",
              "      <th>54</th>\n",
              "      <td>Rubens Barrichello</td>\n",
              "      <td>Brazil</td>\n",
              "      <td>False</td>\n",
              "      <td>322.0</td>\n",
              "      <td>11.0</td>\n",
              "      <td>1993, 1994, 1995, 1996, 1997, 1998, 1999, 2000...</td>\n",
              "      <td>14.0</td>\n",
              "      <td>0.0</td>\n",
              "      <td>68.0</td>\n",
              "      <td>2000</td>\n",
              "      <td>19</td>\n",
              "    </tr>\n",
              "    <tr>\n",
              "      <th>635</th>\n",
              "      <td>Kimi Räikkönen</td>\n",
              "      <td>Finland</td>\n",
              "      <td>True</td>\n",
              "      <td>349.0</td>\n",
              "      <td>21.0</td>\n",
              "      <td>2001, 2002, 2003, 2004, 2005, 2006, 2007, 2008...</td>\n",
              "      <td>18.0</td>\n",
              "      <td>1.0</td>\n",
              "      <td>103.0</td>\n",
              "      <td>2010</td>\n",
              "      <td>19</td>\n",
              "    </tr>\n",
              "    <tr>\n",
              "      <th>710</th>\n",
              "      <td>Michael Schumacher</td>\n",
              "      <td>Germany</td>\n",
              "      <td>True</td>\n",
              "      <td>306.0</td>\n",
              "      <td>91.0</td>\n",
              "      <td>1991, 1992, 1993, 1994, 1995, 1996, 1997, 1998...</td>\n",
              "      <td>68.0</td>\n",
              "      <td>7.0</td>\n",
              "      <td>155.0</td>\n",
              "      <td>2000</td>\n",
              "      <td>19</td>\n",
              "    </tr>\n",
              "    <tr>\n",
              "      <th>17</th>\n",
              "      <td>Fernando Alonso</td>\n",
              "      <td>Spain</td>\n",
              "      <td>True</td>\n",
              "      <td>356.0</td>\n",
              "      <td>32.0</td>\n",
              "      <td>2001, 2003, 2004, 2005, 2006, 2007, 2008, 2009...</td>\n",
              "      <td>22.0</td>\n",
              "      <td>2.0</td>\n",
              "      <td>99.0</td>\n",
              "      <td>2010</td>\n",
              "      <td>19</td>\n",
              "    </tr>\n",
              "    <tr>\n",
              "      <th>364</th>\n",
              "      <td>Graham Hill</td>\n",
              "      <td>United Kingdom</td>\n",
              "      <td>True</td>\n",
              "      <td>176.0</td>\n",
              "      <td>14.0</td>\n",
              "      <td>1958, 1959, 1960, 1961, 1962, 1963, 1964, 1965...</td>\n",
              "      <td>13.0</td>\n",
              "      <td>2.0</td>\n",
              "      <td>36.0</td>\n",
              "      <td>1970</td>\n",
              "      <td>18</td>\n",
              "    </tr>\n",
              "    <tr>\n",
              "      <th>135</th>\n",
              "      <td>Jenson Button</td>\n",
              "      <td>United Kingdom</td>\n",
              "      <td>True</td>\n",
              "      <td>306.0</td>\n",
              "      <td>15.0</td>\n",
              "      <td>2000, 2001, 2002, 2003, 2004, 2005, 2006, 2007...</td>\n",
              "      <td>8.0</td>\n",
              "      <td>1.0</td>\n",
              "      <td>50.0</td>\n",
              "      <td>2010</td>\n",
              "      <td>18</td>\n",
              "    </tr>\n",
              "    <tr>\n",
              "      <th>590</th>\n",
              "      <td>Riccardo Patrese</td>\n",
              "      <td>Italy</td>\n",
              "      <td>False</td>\n",
              "      <td>256.0</td>\n",
              "      <td>6.0</td>\n",
              "      <td>1977, 1978, 1979, 1980, 1981, 1982, 1983, 1984...</td>\n",
              "      <td>8.0</td>\n",
              "      <td>0.0</td>\n",
              "      <td>37.0</td>\n",
              "      <td>1980</td>\n",
              "      <td>17</td>\n",
              "    </tr>\n",
              "    <tr>\n",
              "      <th>95</th>\n",
              "      <td>Jo Bonnier</td>\n",
              "      <td>Sweden</td>\n",
              "      <td>False</td>\n",
              "      <td>104.0</td>\n",
              "      <td>1.0</td>\n",
              "      <td>1956, 1957, 1958, 1959, 1960, 1961, 1962, 1963...</td>\n",
              "      <td>1.0</td>\n",
              "      <td>0.0</td>\n",
              "      <td>1.0</td>\n",
              "      <td>1960</td>\n",
              "      <td>16</td>\n",
              "    </tr>\n",
              "    <tr>\n",
              "      <th>107</th>\n",
              "      <td>Jack Brabham</td>\n",
              "      <td>Australia</td>\n",
              "      <td>True</td>\n",
              "      <td>126.0</td>\n",
              "      <td>14.0</td>\n",
              "      <td>1955, 1956, 1957, 1958, 1959, 1960, 1961, 1962...</td>\n",
              "      <td>13.0</td>\n",
              "      <td>3.0</td>\n",
              "      <td>31.0</td>\n",
              "      <td>1960</td>\n",
              "      <td>16</td>\n",
              "    </tr>\n",
              "    <tr>\n",
              "      <th>338</th>\n",
              "      <td>Lewis Hamilton</td>\n",
              "      <td>United Kingdom</td>\n",
              "      <td>True</td>\n",
              "      <td>311.0</td>\n",
              "      <td>103.0</td>\n",
              "      <td>2007, 2008, 2009, 2010, 2011, 2012, 2013, 2014...</td>\n",
              "      <td>103.0</td>\n",
              "      <td>7.0</td>\n",
              "      <td>191.0</td>\n",
              "      <td>2010</td>\n",
              "      <td>16</td>\n",
              "    </tr>\n",
              "    <tr>\n",
              "      <th>812</th>\n",
              "      <td>Sebastian Vettel</td>\n",
              "      <td>Germany</td>\n",
              "      <td>True</td>\n",
              "      <td>299.0</td>\n",
              "      <td>53.0</td>\n",
              "      <td>2007, 2008, 2009, 2010, 2011, 2012, 2013, 2014...</td>\n",
              "      <td>57.0</td>\n",
              "      <td>4.0</td>\n",
              "      <td>122.0</td>\n",
              "      <td>2010</td>\n",
              "      <td>16</td>\n",
              "    </tr>\n",
              "    <tr>\n",
              "      <th>501</th>\n",
              "      <td>Felipe Massa</td>\n",
              "      <td>Brazil</td>\n",
              "      <td>False</td>\n",
              "      <td>269.0</td>\n",
              "      <td>11.0</td>\n",
              "      <td>2002, 2004, 2005, 2006, 2007, 2008, 2009, 2010...</td>\n",
              "      <td>16.0</td>\n",
              "      <td>0.0</td>\n",
              "      <td>41.0</td>\n",
              "      <td>2010</td>\n",
              "      <td>15</td>\n",
              "    </tr>\n",
              "    <tr>\n",
              "      <th>150</th>\n",
              "      <td>Andrea de Cesaris</td>\n",
              "      <td>Italy</td>\n",
              "      <td>False</td>\n",
              "      <td>208.0</td>\n",
              "      <td>0.0</td>\n",
              "      <td>1980, 1981, 1982, 1983, 1984, 1985, 1986, 1987...</td>\n",
              "      <td>1.0</td>\n",
              "      <td>0.0</td>\n",
              "      <td>5.0</td>\n",
              "      <td>1990</td>\n",
              "      <td>15</td>\n",
              "    </tr>\n",
              "    <tr>\n",
              "      <th>797</th>\n",
              "      <td>Jarno Trulli</td>\n",
              "      <td>Italy</td>\n",
              "      <td>False</td>\n",
              "      <td>252.0</td>\n",
              "      <td>1.0</td>\n",
              "      <td>1997, 1998, 1999, 2000, 2001, 2002, 2003, 2004...</td>\n",
              "      <td>4.0</td>\n",
              "      <td>0.0</td>\n",
              "      <td>11.0</td>\n",
              "      <td>2000</td>\n",
              "      <td>15</td>\n",
              "    </tr>\n",
              "    <tr>\n",
              "      <th>179</th>\n",
              "      <td>David Coulthard</td>\n",
              "      <td>United Kingdom</td>\n",
              "      <td>False</td>\n",
              "      <td>246.0</td>\n",
              "      <td>13.0</td>\n",
              "      <td>1994, 1995, 1996, 1997, 1998, 1999, 2000, 2001...</td>\n",
              "      <td>12.0</td>\n",
              "      <td>0.0</td>\n",
              "      <td>62.0</td>\n",
              "      <td>2000</td>\n",
              "      <td>15</td>\n",
              "    </tr>\n",
              "    <tr>\n",
              "      <th>795</th>\n",
              "      <td>Maurice Trintignant</td>\n",
              "      <td>France</td>\n",
              "      <td>False</td>\n",
              "      <td>82.0</td>\n",
              "      <td>2.0</td>\n",
              "      <td>1950, 1951, 1952, 1953, 1954, 1955, 1956, 1957...</td>\n",
              "      <td>0.0</td>\n",
              "      <td>0.0</td>\n",
              "      <td>10.0</td>\n",
              "      <td>1960</td>\n",
              "      <td>15</td>\n",
              "    </tr>\n",
              "    <tr>\n",
              "      <th>489</th>\n",
              "      <td>Nigel Mansell</td>\n",
              "      <td>United Kingdom</td>\n",
              "      <td>True</td>\n",
              "      <td>187.0</td>\n",
              "      <td>31.0</td>\n",
              "      <td>1980, 1981, 1982, 1983, 1984, 1985, 1986, 1987...</td>\n",
              "      <td>32.0</td>\n",
              "      <td>1.0</td>\n",
              "      <td>59.0</td>\n",
              "      <td>1990</td>\n",
              "      <td>15</td>\n",
              "    </tr>\n",
              "    <tr>\n",
              "      <th>612</th>\n",
              "      <td>Nelson Piquet</td>\n",
              "      <td>Brazil</td>\n",
              "      <td>True</td>\n",
              "      <td>204.0</td>\n",
              "      <td>23.0</td>\n",
              "      <td>1978, 1979, 1980, 1981, 1982, 1983, 1984, 1985...</td>\n",
              "      <td>24.0</td>\n",
              "      <td>3.0</td>\n",
              "      <td>60.0</td>\n",
              "      <td>1980</td>\n",
              "      <td>14</td>\n",
              "    </tr>\n",
              "    <tr>\n",
              "      <th>72</th>\n",
              "      <td>Gerhard Berger</td>\n",
              "      <td>Austria</td>\n",
              "      <td>False</td>\n",
              "      <td>210.0</td>\n",
              "      <td>10.0</td>\n",
              "      <td>1984, 1985, 1986, 1987, 1988, 1989, 1990, 1991...</td>\n",
              "      <td>12.0</td>\n",
              "      <td>0.0</td>\n",
              "      <td>48.0</td>\n",
              "      <td>1990</td>\n",
              "      <td>14</td>\n",
              "    </tr>\n",
              "    <tr>\n",
              "      <th>21</th>\n",
              "      <td>Chris Amon</td>\n",
              "      <td>New Zealand</td>\n",
              "      <td>False</td>\n",
              "      <td>96.0</td>\n",
              "      <td>0.0</td>\n",
              "      <td>1963, 1964, 1965, 1966, 1967, 1968, 1969, 1970...</td>\n",
              "      <td>5.0</td>\n",
              "      <td>0.0</td>\n",
              "      <td>11.0</td>\n",
              "      <td>1970</td>\n",
              "      <td>14</td>\n",
              "    </tr>\n",
              "  </tbody>\n",
              "</table>\n",
              "</div>\n",
              "    <div class=\"colab-df-buttons\">\n",
              "\n",
              "  <div class=\"colab-df-container\">\n",
              "    <button class=\"colab-df-convert\" onclick=\"convertToInteractive('df-eade250f-9ce5-4669-a017-d84e2288356d')\"\n",
              "            title=\"Convert this dataframe to an interactive table.\"\n",
              "            style=\"display:none;\">\n",
              "\n",
              "  <svg xmlns=\"http://www.w3.org/2000/svg\" height=\"24px\" viewBox=\"0 -960 960 960\">\n",
              "    <path d=\"M120-120v-720h720v720H120Zm60-500h600v-160H180v160Zm220 220h160v-160H400v160Zm0 220h160v-160H400v160ZM180-400h160v-160H180v160Zm440 0h160v-160H620v160ZM180-180h160v-160H180v160Zm440 0h160v-160H620v160Z\"/>\n",
              "  </svg>\n",
              "    </button>\n",
              "\n",
              "  <style>\n",
              "    .colab-df-container {\n",
              "      display:flex;\n",
              "      gap: 12px;\n",
              "    }\n",
              "\n",
              "    .colab-df-convert {\n",
              "      background-color: #E8F0FE;\n",
              "      border: none;\n",
              "      border-radius: 50%;\n",
              "      cursor: pointer;\n",
              "      display: none;\n",
              "      fill: #1967D2;\n",
              "      height: 32px;\n",
              "      padding: 0 0 0 0;\n",
              "      width: 32px;\n",
              "    }\n",
              "\n",
              "    .colab-df-convert:hover {\n",
              "      background-color: #E2EBFA;\n",
              "      box-shadow: 0px 1px 2px rgba(60, 64, 67, 0.3), 0px 1px 3px 1px rgba(60, 64, 67, 0.15);\n",
              "      fill: #174EA6;\n",
              "    }\n",
              "\n",
              "    .colab-df-buttons div {\n",
              "      margin-bottom: 4px;\n",
              "    }\n",
              "\n",
              "    [theme=dark] .colab-df-convert {\n",
              "      background-color: #3B4455;\n",
              "      fill: #D2E3FC;\n",
              "    }\n",
              "\n",
              "    [theme=dark] .colab-df-convert:hover {\n",
              "      background-color: #434B5C;\n",
              "      box-shadow: 0px 1px 3px 1px rgba(0, 0, 0, 0.15);\n",
              "      filter: drop-shadow(0px 1px 2px rgba(0, 0, 0, 0.3));\n",
              "      fill: #FFFFFF;\n",
              "    }\n",
              "  </style>\n",
              "\n",
              "    <script>\n",
              "      const buttonEl =\n",
              "        document.querySelector('#df-eade250f-9ce5-4669-a017-d84e2288356d button.colab-df-convert');\n",
              "      buttonEl.style.display =\n",
              "        google.colab.kernel.accessAllowed ? 'block' : 'none';\n",
              "\n",
              "      async function convertToInteractive(key) {\n",
              "        const element = document.querySelector('#df-eade250f-9ce5-4669-a017-d84e2288356d');\n",
              "        const dataTable =\n",
              "          await google.colab.kernel.invokeFunction('convertToInteractive',\n",
              "                                                    [key], {});\n",
              "        if (!dataTable) return;\n",
              "\n",
              "        const docLinkHtml = 'Like what you see? Visit the ' +\n",
              "          '<a target=\"_blank\" href=https://colab.research.google.com/notebooks/data_table.ipynb>data table notebook</a>'\n",
              "          + ' to learn more about interactive tables.';\n",
              "        element.innerHTML = '';\n",
              "        dataTable['output_type'] = 'display_data';\n",
              "        await google.colab.output.renderOutput(dataTable, element);\n",
              "        const docLink = document.createElement('div');\n",
              "        docLink.innerHTML = docLinkHtml;\n",
              "        element.appendChild(docLink);\n",
              "      }\n",
              "    </script>\n",
              "  </div>\n",
              "\n",
              "\n",
              "<div id=\"df-3d9e9f5e-bd4a-4a74-aa1f-05a90fa207e4\">\n",
              "  <button class=\"colab-df-quickchart\" onclick=\"quickchart('df-3d9e9f5e-bd4a-4a74-aa1f-05a90fa207e4')\"\n",
              "            title=\"Suggest charts.\"\n",
              "            style=\"display:none;\">\n",
              "\n",
              "<svg xmlns=\"http://www.w3.org/2000/svg\" height=\"24px\"viewBox=\"0 0 24 24\"\n",
              "     width=\"24px\">\n",
              "    <g>\n",
              "        <path d=\"M19 3H5c-1.1 0-2 .9-2 2v14c0 1.1.9 2 2 2h14c1.1 0 2-.9 2-2V5c0-1.1-.9-2-2-2zM9 17H7v-7h2v7zm4 0h-2V7h2v10zm4 0h-2v-4h2v4z\"/>\n",
              "    </g>\n",
              "</svg>\n",
              "  </button>\n",
              "\n",
              "<style>\n",
              "  .colab-df-quickchart {\n",
              "      --bg-color: #E8F0FE;\n",
              "      --fill-color: #1967D2;\n",
              "      --hover-bg-color: #E2EBFA;\n",
              "      --hover-fill-color: #174EA6;\n",
              "      --disabled-fill-color: #AAA;\n",
              "      --disabled-bg-color: #DDD;\n",
              "  }\n",
              "\n",
              "  [theme=dark] .colab-df-quickchart {\n",
              "      --bg-color: #3B4455;\n",
              "      --fill-color: #D2E3FC;\n",
              "      --hover-bg-color: #434B5C;\n",
              "      --hover-fill-color: #FFFFFF;\n",
              "      --disabled-bg-color: #3B4455;\n",
              "      --disabled-fill-color: #666;\n",
              "  }\n",
              "\n",
              "  .colab-df-quickchart {\n",
              "    background-color: var(--bg-color);\n",
              "    border: none;\n",
              "    border-radius: 50%;\n",
              "    cursor: pointer;\n",
              "    display: none;\n",
              "    fill: var(--fill-color);\n",
              "    height: 32px;\n",
              "    padding: 0;\n",
              "    width: 32px;\n",
              "  }\n",
              "\n",
              "  .colab-df-quickchart:hover {\n",
              "    background-color: var(--hover-bg-color);\n",
              "    box-shadow: 0 1px 2px rgba(60, 64, 67, 0.3), 0 1px 3px 1px rgba(60, 64, 67, 0.15);\n",
              "    fill: var(--button-hover-fill-color);\n",
              "  }\n",
              "\n",
              "  .colab-df-quickchart-complete:disabled,\n",
              "  .colab-df-quickchart-complete:disabled:hover {\n",
              "    background-color: var(--disabled-bg-color);\n",
              "    fill: var(--disabled-fill-color);\n",
              "    box-shadow: none;\n",
              "  }\n",
              "\n",
              "  .colab-df-spinner {\n",
              "    border: 2px solid var(--fill-color);\n",
              "    border-color: transparent;\n",
              "    border-bottom-color: var(--fill-color);\n",
              "    animation:\n",
              "      spin 1s steps(1) infinite;\n",
              "  }\n",
              "\n",
              "  @keyframes spin {\n",
              "    0% {\n",
              "      border-color: transparent;\n",
              "      border-bottom-color: var(--fill-color);\n",
              "      border-left-color: var(--fill-color);\n",
              "    }\n",
              "    20% {\n",
              "      border-color: transparent;\n",
              "      border-left-color: var(--fill-color);\n",
              "      border-top-color: var(--fill-color);\n",
              "    }\n",
              "    30% {\n",
              "      border-color: transparent;\n",
              "      border-left-color: var(--fill-color);\n",
              "      border-top-color: var(--fill-color);\n",
              "      border-right-color: var(--fill-color);\n",
              "    }\n",
              "    40% {\n",
              "      border-color: transparent;\n",
              "      border-right-color: var(--fill-color);\n",
              "      border-top-color: var(--fill-color);\n",
              "    }\n",
              "    60% {\n",
              "      border-color: transparent;\n",
              "      border-right-color: var(--fill-color);\n",
              "    }\n",
              "    80% {\n",
              "      border-color: transparent;\n",
              "      border-right-color: var(--fill-color);\n",
              "      border-bottom-color: var(--fill-color);\n",
              "    }\n",
              "    90% {\n",
              "      border-color: transparent;\n",
              "      border-bottom-color: var(--fill-color);\n",
              "    }\n",
              "  }\n",
              "</style>\n",
              "\n",
              "  <script>\n",
              "    async function quickchart(key) {\n",
              "      const quickchartButtonEl =\n",
              "        document.querySelector('#' + key + ' button');\n",
              "      quickchartButtonEl.disabled = true;  // To prevent multiple clicks.\n",
              "      quickchartButtonEl.classList.add('colab-df-spinner');\n",
              "      try {\n",
              "        const charts = await google.colab.kernel.invokeFunction(\n",
              "            'suggestCharts', [key], {});\n",
              "      } catch (error) {\n",
              "        console.error('Error during call to suggestCharts:', error);\n",
              "      }\n",
              "      quickchartButtonEl.classList.remove('colab-df-spinner');\n",
              "      quickchartButtonEl.classList.add('colab-df-quickchart-complete');\n",
              "    }\n",
              "    (() => {\n",
              "      let quickchartButtonEl =\n",
              "        document.querySelector('#df-3d9e9f5e-bd4a-4a74-aa1f-05a90fa207e4 button');\n",
              "      quickchartButtonEl.style.display =\n",
              "        google.colab.kernel.accessAllowed ? 'block' : 'none';\n",
              "    })();\n",
              "  </script>\n",
              "</div>\n",
              "    </div>\n",
              "  </div>\n"
            ]
          },
          "metadata": {},
          "execution_count": 89
        }
      ]
    },
    {
      "cell_type": "markdown",
      "source": [
        "#Challenge Question 1"
      ],
      "metadata": {
        "id": "rEOnXgaQApTK"
      }
    },
    {
      "cell_type": "markdown",
      "source": [
        "###Your friend claims that F1 races are boring because the racer who starts in first (the racer with the pole position) usually wins the race.\n",
        "\n",
        "###First, explain whether our dataset is suitable to properly verify this claim.\n",
        "\n",
        "###Then, examine the relation between the frequency of a driver being in pole position and them winning their races (even if you believe the data is not suitable).\n",
        "\n",
        "###Finally, based on all of the evidence, tell us what you would say to your friend."
      ],
      "metadata": {
        "id": "TdJirmMnAuB4"
      }
    },
    {
      "cell_type": "markdown",
      "source": [
        "**Suitability of Dataset**\n",
        "\n",
        "This dataset is not suitable to properly verify this claim. Although statistics of the number of pole positions and the number of race wins of each F1 driver are provided, we do not know whether the pole position and race win happened during the same race. For instance, Alonso has 22 pole positions and 32 race wins. One possibility could be that all his 22 pole positions led to race wins, from which we can infer that the driver who starts in first usually wins the race. On the other hand, another possibility could be that the 32 race wins occurred in different races, not in the 22 races he got pole position in. In that case, we can infer that there is minimal correlation between a driver starting in pole position and them winning the race. In conclusion, since this dataset did not specify if the pole positions and race wins occurred during the same race, it is not suitable to verify this claim. We will need a dataset of all F1 races that specifies the driver that attained pole position and the driver that won for each race."
      ],
      "metadata": {
        "id": "Dna3csUmC3v4"
      }
    },
    {
      "cell_type": "markdown",
      "source": [
        "**Relation between pole position and race win**"
      ],
      "metadata": {
        "id": "aLsOEv4dFP0r"
      }
    },
    {
      "cell_type": "code",
      "source": [
        "# Retrieve drivers who participated in at least 1 race\n",
        "pole_win_df = f1_df[f1_df[\"Total_Races\"] >= 1]\n",
        "\n",
        "# Calculate frequency of pole positions\n",
        "pole_win_df[\"Pole_Frequency\"] = pole_win_df[\"Pole_Positions\"] / pole_win_df[\"Total_Races\"]\n",
        "pole_win_df['Pole_Frequency'] = pole_win_df['Pole_Frequency'].apply(lambda x: float(\"{:.4f}\".format(x)))\n",
        "\n",
        "# Calculate frequency of race wins\n",
        "pole_win_df[\"Win_Frequency\"] = pole_win_df[\"Race_Wins\"] / pole_win_df[\"Total_Races\"]\n",
        "pole_win_df['Win_Frequency'] = pole_win_df['Win_Frequency'].apply(lambda x: float(\"{:.4f}\".format(x)))"
      ],
      "metadata": {
        "colab": {
          "base_uri": "https://localhost:8080/"
        },
        "id": "Nv_Tj3yC9Iw-",
        "outputId": "ef562719-aa9d-4333-de79-98cdd484a5e2"
      },
      "execution_count": 90,
      "outputs": [
        {
          "output_type": "stream",
          "name": "stderr",
          "text": [
            "<ipython-input-90-a4f4a33730ab>:5: SettingWithCopyWarning: \n",
            "A value is trying to be set on a copy of a slice from a DataFrame.\n",
            "Try using .loc[row_indexer,col_indexer] = value instead\n",
            "\n",
            "See the caveats in the documentation: https://pandas.pydata.org/pandas-docs/stable/user_guide/indexing.html#returning-a-view-versus-a-copy\n",
            "  pole_win_df[\"Pole_Frequency\"] = pole_win_df[\"Pole_Positions\"] / pole_win_df[\"Total_Races\"]\n",
            "<ipython-input-90-a4f4a33730ab>:6: SettingWithCopyWarning: \n",
            "A value is trying to be set on a copy of a slice from a DataFrame.\n",
            "Try using .loc[row_indexer,col_indexer] = value instead\n",
            "\n",
            "See the caveats in the documentation: https://pandas.pydata.org/pandas-docs/stable/user_guide/indexing.html#returning-a-view-versus-a-copy\n",
            "  pole_win_df['Pole_Frequency'] = pole_win_df['Pole_Frequency'].apply(lambda x: float(\"{:.4f}\".format(x)))\n",
            "<ipython-input-90-a4f4a33730ab>:9: SettingWithCopyWarning: \n",
            "A value is trying to be set on a copy of a slice from a DataFrame.\n",
            "Try using .loc[row_indexer,col_indexer] = value instead\n",
            "\n",
            "See the caveats in the documentation: https://pandas.pydata.org/pandas-docs/stable/user_guide/indexing.html#returning-a-view-versus-a-copy\n",
            "  pole_win_df[\"Win_Frequency\"] = pole_win_df[\"Race_Wins\"] / pole_win_df[\"Total_Races\"]\n",
            "<ipython-input-90-a4f4a33730ab>:10: SettingWithCopyWarning: \n",
            "A value is trying to be set on a copy of a slice from a DataFrame.\n",
            "Try using .loc[row_indexer,col_indexer] = value instead\n",
            "\n",
            "See the caveats in the documentation: https://pandas.pydata.org/pandas-docs/stable/user_guide/indexing.html#returning-a-view-versus-a-copy\n",
            "  pole_win_df['Win_Frequency'] = pole_win_df['Win_Frequency'].apply(lambda x: float(\"{:.4f}\".format(x)))\n"
          ]
        }
      ]
    },
    {
      "cell_type": "code",
      "source": [
        "# Scatterplot of Race Win Frequency vs Pole Frequency\n",
        "x = pole_win_df[\"Pole_Frequency\"]\n",
        "y = pole_win_df[\"Win_Frequency\"]\n",
        "plt.scatter(x, y, color = \"lightcoral\")\n",
        "\n",
        "# Plot best fit line\n",
        "a, b = np.polyfit(x, y, 1)\n",
        "plt.plot(x, a * x + b, color='steelblue', linewidth=2)\n",
        "plt.xlabel(\"Pole Frequency\")\n",
        "plt.ylabel(\"Race Win Frequency\")\n",
        "plt.title(\"Race Win Frequency vs Pole Frequency\")\n",
        "plt.show()"
      ],
      "metadata": {
        "colab": {
          "base_uri": "https://localhost:8080/",
          "height": 472
        },
        "id": "uB4QhG-gF2fX",
        "outputId": "4733df58-f18e-4cce-defb-e899c600e4b9"
      },
      "execution_count": 91,
      "outputs": [
        {
          "output_type": "display_data",
          "data": {
            "text/plain": [
              "<Figure size 640x480 with 1 Axes>"
            ],
            "image/png": "[encoded data removed]"
          },
          "metadata": {}
        }
      ]
    },
    {
      "cell_type": "code",
      "source": [
        "# Correlation between Pole Frequency and Race Win Frequency\n",
        "print(pole_win_df[\"Pole_Frequency\"].corr(pole_win_df[\"Win_Frequency\"]))"
      ],
      "metadata": {
        "colab": {
          "base_uri": "https://localhost:8080/"
        },
        "id": "wLwznvOkHGBW",
        "outputId": "28297772-a2cf-4b93-e998-d50a6d398d44"
      },
      "execution_count": 92,
      "outputs": [
        {
          "output_type": "stream",
          "name": "stdout",
          "text": [
            "0.724665778381764\n"
          ]
        }
      ]
    },
    {
      "cell_type": "markdown",
      "source": [
        "**Conclusion of Analysis**"
      ],
      "metadata": {
        "id": "80pX_nZrLSX9"
      }
    },
    {
      "cell_type": "markdown",
      "source": [
        "Based on the scatterplot and best fit line, we observe that there is a positive relationship between the frequency of pole positions and the frequency of race wins for F1 drivers. Furthermore, the correlation coefficient is 0.72, which is positive and relatively close to 1. Therefore, we can conclude that there is a relatively strong positive correlation between the frequency of pole positions and the frequency of race wins for F1 drivers.\n",
        "\n",
        "However, correlation does not imply causation, so we cannot conclude that starting from pole position leads to a driver winning the race. Furthermore, as explained earlier, we are unable to verify the claim that the driver who starts first will usually win the race since the dataset did not specify if the drivers achieved pole positions and race wins in the same or different races.\n",
        "\n",
        "In fact, for a more rigorous verification of the claim that the driver who starts first usually wins the race requires us to carry out a hypothesis test. The null hypothesis is that the proportion of Formula 1 drivers winning the race when in pole position is 50% or less. The alternative hypothesis is that the proportion of Formula 1 drivers winning the race when in pole position is greater than 50%. Nonetheless, this will require a dataset of all F1 races that specifies the driver that attained pole position and the driver that won for each race."
      ],
      "metadata": {
        "id": "YMiq5ixpLV34"
      }
    },
    {
      "cell_type": "markdown",
      "source": [
        "#Challenge Question 2"
      ],
      "metadata": {
        "id": "67v47BqKPKlj"
      }
    },
    {
      "cell_type": "markdown",
      "source": [
        "Make an argument for which decade was the most competitive decade of F1 Racing. Justify your position AND state any drawbacks or considerations to be made of your analysis.\n",
        "\n",
        "Note: A highly competitive decade would be one in which there are no drivers who are frequently winning or dominating their opponents. Try to incorporate information stemming from \"Race_Wins\", \"Race_Podiums\", or \"Total_Championships_Won\" in your response if possible."
      ],
      "metadata": {
        "id": "sUb4ofS3Pg5w"
      }
    },
    {
      "cell_type": "markdown",
      "source": [
        "**Unique Drivers with Race Wins by Decade**"
      ],
      "metadata": {
        "id": "TTfsabbC2aRE"
      }
    },
    {
      "cell_type": "code",
      "source": [
        "# Retrieve drivers with at least one race win\n",
        "win_df = f1_df[f1_df[\"Race_Wins\"] >= 1]\n",
        "\n",
        "# Find number of drivers with at least one race win by decade\n",
        "win_df = win_df.groupby([\"Decade\"])[\"Driver\"].nunique()\n",
        "\n",
        "# Sort in descending order\n",
        "win_df_descending = win_df.sort_values(ascending = False)\n",
        "win_df_descending"
      ],
      "metadata": {
        "colab": {
          "base_uri": "https://localhost:8080/"
        },
        "id": "kfeSNDWLLCag",
        "outputId": "65584ea3-cd48-4b1f-b561-6284c3557408"
      },
      "execution_count": 93,
      "outputs": [
        {
          "output_type": "execute_result",
          "data": {
            "text/plain": [
              "Decade\n",
              "1980    23\n",
              "1960    20\n",
              "1970    15\n",
              "2000    14\n",
              "1950    13\n",
              "2010    11\n",
              "2020     9\n",
              "1990     8\n",
              "Name: Driver, dtype: int64"
            ]
          },
          "metadata": {},
          "execution_count": 93
        }
      ]
    },
    {
      "cell_type": "code",
      "source": [
        "# Bar plot of number of unique drivers with race wins grouped by decade\n",
        "ax = win_df.plot.bar(color = \"darkslateblue\", alpha = 0.7)\n",
        "ax.set_xlabel(\"Decade\")\n",
        "ax.set_ylabel(\"Number of Drivers\")\n",
        "ax.set_title(\"Number of Drivers with Race Wins by Decade\")"
      ],
      "metadata": {
        "colab": {
          "base_uri": "https://localhost:8080/",
          "height": 510
        },
        "id": "Ozj511FdVNgD",
        "outputId": "c78e4ffe-dbca-4ab3-c2b9-8162f7a2c7d2"
      },
      "execution_count": 94,
      "outputs": [
        {
          "output_type": "execute_result",
          "data": {
            "text/plain": [
              "Text(0.5, 1.0, 'Number of Drivers with Race Wins by Decade')"
            ]
          },
          "metadata": {},
          "execution_count": 94
        },
        {
          "output_type": "display_data",
          "data": {
            "text/plain": [
              "<Figure size 640x480 with 1 Axes>"
            ],
            "image/png": "[encoded data removed]"
          },
          "metadata": {}
        }
      ]
    },
    {
      "cell_type": "code",
      "source": [
        "# Bar plot of number of race wins for each driver in the 1980s\n",
        "win_1980_df = f1_df[(f1_df[\"Race_Wins\"] >= 1) & (f1_df[\"Decade\"] == 1980)]\n",
        "plt.bar(win_1980_df[\"Driver\"], win_1980_df[\"Race_Wins\"])\n",
        "plt.xlabel(\"Driver\")\n",
        "plt.ylabel(\"Number of Race Wins\")\n",
        "plt.title(\"Race Wins for each Driver in 1980s\")\n",
        "plt.xticks(rotation = 90)\n",
        "plt.show()"
      ],
      "metadata": {
        "colab": {
          "base_uri": "https://localhost:8080/",
          "height": 596
        },
        "id": "-76LQmjVEhp3",
        "outputId": "d89d773c-7a9e-4e9c-d40d-638c6ee7f83a"
      },
      "execution_count": 95,
      "outputs": [
        {
          "output_type": "display_data",
          "data": {
            "text/plain": [
              "<Figure size 640x480 with 1 Axes>"
            ],
            "image/png": "[encoded data removed]"
          },
          "metadata": {}
        }
      ]
    },
    {
      "cell_type": "code",
      "source": [
        "# Retrieve drivers with at least one race win\n",
        "win_df = f1_df[f1_df[\"Race_Wins\"] >= 1]\n",
        "\n",
        "# Calculate max, mean, median, q1 and q3 of number of race wins\n",
        "print(win_df[\"Race_Wins\"].max())\n",
        "print(win_df[\"Race_Wins\"].mean())\n",
        "win_df[\"Race_Wins\"].quantile([0.25, 0.5, 0.75])"
      ],
      "metadata": {
        "colab": {
          "base_uri": "https://localhost:8080/"
        },
        "id": "I9oOseFAGJ4O",
        "outputId": "acd899f6-3a1d-471a-b607-27a487e4815f"
      },
      "execution_count": 96,
      "outputs": [
        {
          "output_type": "stream",
          "name": "stdout",
          "text": [
            "103.0\n",
            "9.584070796460177\n"
          ]
        },
        {
          "output_type": "execute_result",
          "data": {
            "text/plain": [
              "0.25     1.0\n",
              "0.50     4.0\n",
              "0.75    11.0\n",
              "Name: Race_Wins, dtype: float64"
            ]
          },
          "metadata": {},
          "execution_count": 96
        }
      ]
    },
    {
      "cell_type": "markdown",
      "source": [
        "**Analysis**\n",
        "\n",
        "The 1980s had the most number of unique drivers who won at least 1 race. There were 8 drivers who won at least 10 races in the 1980s, and the driver with the most race wins in this era was Niki Lauda with just 25, which is much less than the 103 won by Hamilton. Hence, based on race wins, the 1980s era is definitely competitive."
      ],
      "metadata": {
        "id": "_CpwPSv_H74Z"
      }
    },
    {
      "cell_type": "markdown",
      "source": [
        "**Unique Drivers with Podium Wins by Decade**"
      ],
      "metadata": {
        "id": "bjPWOV0W2jSA"
      }
    },
    {
      "cell_type": "code",
      "source": [
        "# Retrieve drivers with at least one podium\n",
        "podium_df = f1_df[f1_df[\"Race_Podiums\"] >= 1]\n",
        "\n",
        "# Find number of drivers with at least one podium by decade\n",
        "podium_df = podium_df.groupby([\"Decade\"])[\"Driver\"].nunique()\n",
        "\n",
        "# Sort in descending order\n",
        "podium_df_descending = podium_df.sort_values(ascending = False)\n",
        "podium_df_descending"
      ],
      "metadata": {
        "colab": {
          "base_uri": "https://localhost:8080/"
        },
        "id": "HyuqjGcKQgZK",
        "outputId": "8b465f35-936e-48fd-e712-24c28d1e57d0"
      },
      "execution_count": 97,
      "outputs": [
        {
          "output_type": "execute_result",
          "data": {
            "text/plain": [
              "Decade\n",
              "1960    48\n",
              "1950    33\n",
              "1970    30\n",
              "1980    29\n",
              "1990    24\n",
              "2000    18\n",
              "2010    18\n",
              "2020    15\n",
              "Name: Driver, dtype: int64"
            ]
          },
          "metadata": {},
          "execution_count": 97
        }
      ]
    },
    {
      "cell_type": "code",
      "source": [
        "# Bar plot of number of unique drivers with podiums grouped by decade\n",
        "ax = podium_df.plot.bar(color = \"darkslateblue\", alpha = 0.7)\n",
        "ax.set_xlabel(\"Decade\")\n",
        "ax.set_ylabel(\"Number of Drivers\")\n",
        "ax.set_title(\"Number of Drivers with Podium Wins by Decade\")"
      ],
      "metadata": {
        "colab": {
          "base_uri": "https://localhost:8080/",
          "height": 510
        },
        "id": "FNXPnQ78VgXD",
        "outputId": "1922cfbc-c959-4174-f20b-a7fb7324ea77"
      },
      "execution_count": 98,
      "outputs": [
        {
          "output_type": "execute_result",
          "data": {
            "text/plain": [
              "Text(0.5, 1.0, 'Number of Drivers with Podium Wins by Decade')"
            ]
          },
          "metadata": {},
          "execution_count": 98
        },
        {
          "output_type": "display_data",
          "data": {
            "text/plain": [
              "<Figure size 640x480 with 1 Axes>"
            ],
            "image/png": "[encoded data removed]"
          },
          "metadata": {}
        }
      ]
    },
    {
      "cell_type": "code",
      "source": [
        "# Histogram of number of podiums won by drivers in the 1980s\n",
        "podium_1980_df = f1_df[(f1_df[\"Race_Podiums\"] >= 1) & (f1_df[\"Decade\"] == 1980)]\n",
        "plt.hist(podium_1980_df[\"Race_Podiums\"], color = \"blue\", alpha = 0.7, edgecolor = \"black\", bins = 6)\n",
        "plt.xlabel(\"Number of Podiums\")\n",
        "plt.ylabel(\"Number of Drivers\")\n",
        "plt.title(\"Number of Podiums for Drivers in 1980s\")"
      ],
      "metadata": {
        "colab": {
          "base_uri": "https://localhost:8080/",
          "height": 489
        },
        "id": "z7SiSGOYIS_L",
        "outputId": "9c1bb04d-504c-4e34-d89e-69c687929a77"
      },
      "execution_count": 99,
      "outputs": [
        {
          "output_type": "execute_result",
          "data": {
            "text/plain": [
              "Text(0.5, 1.0, 'Number of Podiums for Drivers in 1980s')"
            ]
          },
          "metadata": {},
          "execution_count": 99
        },
        {
          "output_type": "display_data",
          "data": {
            "text/plain": [
              "<Figure size 640x480 with 1 Axes>"
            ],
            "image/png": "[encoded data removed]"
          },
          "metadata": {}
        }
      ]
    },
    {
      "cell_type": "code",
      "source": [
        "# Retrieve drivers with at least one podium\n",
        "podium_df = f1_df[f1_df[\"Race_Podiums\"] >= 1]\n",
        "\n",
        "# Calculate max, mean, median, q1 and q3 of number of podiums\n",
        "print(podium_df[\"Race_Podiums\"].max())\n",
        "print(podium_df[\"Race_Podiums\"].mean())\n",
        "podium_df[\"Race_Podiums\"].quantile([0.25, 0.5, 0.75])"
      ],
      "metadata": {
        "colab": {
          "base_uri": "https://localhost:8080/"
        },
        "id": "LBmBgpo0Jh3K",
        "outputId": "98c11436-39a3-4a70-d7e1-eba443bfe76f"
      },
      "execution_count": 100,
      "outputs": [
        {
          "output_type": "stream",
          "name": "stdout",
          "text": [
            "191.0\n",
            "15.167441860465116\n"
          ]
        },
        {
          "output_type": "execute_result",
          "data": {
            "text/plain": [
              "0.25     1.0\n",
              "0.50     3.0\n",
              "0.75    19.0\n",
              "Name: Race_Podiums, dtype: float64"
            ]
          },
          "metadata": {},
          "execution_count": 100
        }
      ]
    },
    {
      "cell_type": "markdown",
      "source": [
        "**Analysis**\n",
        "\n",
        "As seen from the bar plot, apart from the 1960s, the 1980s had a decent number of unique drivers who achieved at least one podium, not that much different from other decades. The distribution of the number of podiums won by drivers in the 1980s is also right-skewed, indicating that there were few drivers who were overly-dominant over others. Hence, the 1980s era was fairly competitive based on podium wins."
      ],
      "metadata": {
        "id": "q-Ml-z7wJ_ul"
      }
    },
    {
      "cell_type": "markdown",
      "source": [
        "**Unique Drivers with Championship Wins by Decade**"
      ],
      "metadata": {
        "id": "bL-bUjh32lcq"
      }
    },
    {
      "cell_type": "code",
      "source": [
        "# Retrieve drivers with at least one championship\n",
        "championship_df = f1_df[f1_df[\"Total_Championships_Won\"] >= 1]\n",
        "\n",
        "# Find number of drivers with at least one championship by decade\n",
        "championship_df = championship_df.groupby([\"Decade\"])[\"Driver\"].nunique()\n",
        "\n",
        "# Sort in descending order\n",
        "championship_df_descending = championship_df.sort_values(ascending = False)\n",
        "championship_df_descending"
      ],
      "metadata": {
        "colab": {
          "base_uri": "https://localhost:8080/"
        },
        "id": "lWWraaCISnDL",
        "outputId": "62330a9f-36b3-41e8-d723-8a4865196171"
      },
      "execution_count": 101,
      "outputs": [
        {
          "output_type": "execute_result",
          "data": {
            "text/plain": [
              "Decade\n",
              "1980    8\n",
              "2010    6\n",
              "1970    5\n",
              "1960    4\n",
              "2000    4\n",
              "1950    3\n",
              "1990    3\n",
              "2020    1\n",
              "Name: Driver, dtype: int64"
            ]
          },
          "metadata": {},
          "execution_count": 101
        }
      ]
    },
    {
      "cell_type": "code",
      "source": [
        "# Bar plot of number of unique drivers with championships grouped by decade\n",
        "ax = championship_df.plot.bar(color = \"darkslateblue\", alpha = 0.7)\n",
        "ax.set_xlabel(\"Decade\")\n",
        "ax.set_ylabel(\"Number of Drivers\")\n",
        "ax.set_title(\"Number of Drivers with Championships by Decade\")"
      ],
      "metadata": {
        "colab": {
          "base_uri": "https://localhost:8080/",
          "height": 510
        },
        "id": "fYTTf_C5TgQl",
        "outputId": "e2147272-45c3-4893-c9f5-a985a012d3e8"
      },
      "execution_count": 102,
      "outputs": [
        {
          "output_type": "execute_result",
          "data": {
            "text/plain": [
              "Text(0.5, 1.0, 'Number of Drivers with Championships by Decade')"
            ]
          },
          "metadata": {},
          "execution_count": 102
        },
        {
          "output_type": "display_data",
          "data": {
            "text/plain": [
              "<Figure size 640x480 with 1 Axes>"
            ],
            "image/png": "[encoded data removed]"
          },
          "metadata": {}
        }
      ]
    },
    {
      "cell_type": "code",
      "source": [
        "# Bar plot of number of championships for each driver in the 1980s\n",
        "championship_1980_df = f1_df[(f1_df[\"Total_Championships_Won\"] >= 1) & (f1_df[\"Decade\"] == 1980)]\n",
        "plt.bar(championship_1980_df[\"Driver\"], championship_1980_df[\"Total_Championships_Won\"])\n",
        "plt.xlabel(\"Driver\")\n",
        "plt.ylabel(\"Number of Championships\")\n",
        "plt.title(\"Championships Won for each Driver in 1980s\")\n",
        "plt.xticks(rotation = 90)\n",
        "plt.show()"
      ],
      "metadata": {
        "colab": {
          "base_uri": "https://localhost:8080/",
          "height": 583
        },
        "id": "7aZ628Q2L4eX",
        "outputId": "e5dc4f13-64eb-4fc6-c3df-649add1923db"
      },
      "execution_count": 103,
      "outputs": [
        {
          "output_type": "display_data",
          "data": {
            "text/plain": [
              "<Figure size 640x480 with 1 Axes>"
            ],
            "image/png": "[encoded data removed]"
          },
          "metadata": {}
        }
      ]
    },
    {
      "cell_type": "markdown",
      "source": [
        "**Analysis**\n",
        "The 1980s had the most number of unique drivers who won at least 1 championship. Only Lauda and Piquet won 3 championships, as well as Fittipaldi with 2, whereas the other 5 drivers only won 1, which were all much fewer than the 7 championships won by Hamilton. Therefore, the 1980s era was definitely competitive based on championship wins."
      ],
      "metadata": {
        "id": "xcxEFqJnMHhO"
      }
    },
    {
      "cell_type": "markdown",
      "source": [
        "**Conclusion**"
      ],
      "metadata": {
        "id": "we5t-Sp82n3G"
      }
    },
    {
      "cell_type": "markdown",
      "source": [
        "1980s is the most competitive decade in F1 racing. As seen from the bar plots (refer to the Jupyter Notebook attached), 1980s is the decade with the most number of unique drivers for race wins and championship wins, and a decent number of unique drivers for podium wins. The distribution of championship/race/podium wins are also mostly right-skewed, with no overly-dominant driver winning everything. However, my analysis has the following limitations:\n",
        "\n",
        "1. Some drivers won their championships/races/podiums in seasons that are not part of the decade they are classified under. For instance, Fernando Alonso won his F1 championships in 2005 and 2006, but he has been classified under the 2010s decade during which he failed to win any championships, thus leading to inaccuracies in my analysis.\n",
        "\n",
        "2. F1 has been constantly expanding the number of races per season. Since there were fewer races back in the 1950s as compared to the 2010s, there would most likely be fewer unique championship/race/podium winners. By this logic, the competitiveness of F1 in earlier decades has been underrated in my analysis, whereas the competitiveness of F1 in later decades has been inflated. Therefore, I have to take into account of the total number of races per season in my analysis for a fair comparison of competitiveness between decades, such as dividing by the number of races in each season.\n",
        "\n",
        "3. Since there are 2 drivers per team in F1, we have to take into account of the team that championship/race/podium winners belong to. For instance, a decade with 4 championship winners from 2 teams is not as competitive as a decade with 4 championship winners from 4 different teams."
      ],
      "metadata": {
        "id": "ABL2X59dV3sp"
      }
    }
  ]
}